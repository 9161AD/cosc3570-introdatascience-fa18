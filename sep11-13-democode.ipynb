{
 "cells": [
  {
   "cell_type": "code",
   "execution_count": 2,
   "metadata": {
    "collapsed": true
   },
   "outputs": [],
   "source": [
    "from datascience import *\n",
    "import numpy as np\n",
    "\n",
    "%matplotlib inline\n",
    "import matplotlib.pyplot as plots\n",
    "plots.style.use('fivethirtyeight')"
   ]
  },
  {
   "cell_type": "code",
   "execution_count": 3,
   "metadata": {
    "collapsed": true
   },
   "outputs": [],
   "source": [
    "movies = Table.read_table(\"top_movies_by_title.csv\") "
   ]
  },
  {
   "cell_type": "code",
   "execution_count": 5,
   "metadata": {
    "collapsed": false
   },
   "outputs": [
    {
     "data": {
      "text/html": [
       "<table border=\"1\" class=\"dataframe\">\n",
       "    <thead>\n",
       "        <tr>\n",
       "            <th>Title</th> <th>Studio</th> <th>Gross</th> <th>Gross (Adjusted)</th> <th>Year</th>\n",
       "        </tr>\n",
       "    </thead>\n",
       "    <tbody>\n",
       "        <tr>\n",
       "            <td>101 Dalmatians                       </td> <td>Disney              </td> <td>144880014</td> <td>869280100       </td> <td>1961</td>\n",
       "        </tr>\n",
       "        <tr>\n",
       "            <td>2001: A Space Odyssey                </td> <td>MGM                 </td> <td>56954992 </td> <td>377027700       </td> <td>1968</td>\n",
       "        </tr>\n",
       "        <tr>\n",
       "            <td>9 to 5                               </td> <td>Fox                 </td> <td>103290500</td> <td>334062200       </td> <td>1980</td>\n",
       "        </tr>\n",
       "        <tr>\n",
       "            <td>A Star Is Born (1976)                </td> <td>Warner Bros.        </td> <td>80000000 </td> <td>326760600       </td> <td>1976</td>\n",
       "        </tr>\n",
       "        <tr>\n",
       "            <td>Air Force One                        </td> <td>Sony                </td> <td>172956409</td> <td>327752300       </td> <td>1997</td>\n",
       "        </tr>\n",
       "        <tr>\n",
       "            <td>Airport                              </td> <td>Universal           </td> <td>100489151</td> <td>575168200       </td> <td>1970</td>\n",
       "        </tr>\n",
       "        <tr>\n",
       "            <td>Aladdin                              </td> <td>Buena Vista (Disney)</td> <td>217350219</td> <td>456248400       </td> <td>1992</td>\n",
       "        </tr>\n",
       "        <tr>\n",
       "            <td>Alice in Wonderland (2010)           </td> <td>Buena Vista (Disney)</td> <td>334191110</td> <td>365718600       </td> <td>2010</td>\n",
       "        </tr>\n",
       "        <tr>\n",
       "            <td>American Graffiti                    </td> <td>Universal           </td> <td>115000000</td> <td>571714300       </td> <td>1973</td>\n",
       "        </tr>\n",
       "        <tr>\n",
       "            <td>American Sniper                      </td> <td>Warner Bros.        </td> <td>350126372</td> <td>374796000       </td> <td>2014</td>\n",
       "        </tr>\n",
       "        <tr>\n",
       "            <td>An Officer and a Gentleman           </td> <td>Paramount           </td> <td>129795554</td> <td>379814600       </td> <td>1982</td>\n",
       "        </tr>\n",
       "        <tr>\n",
       "            <td>Apollo 13                            </td> <td>Universal           </td> <td>173837933</td> <td>346762300       </td> <td>1995</td>\n",
       "        </tr>\n",
       "        <tr>\n",
       "            <td>Armageddon                           </td> <td>Buena Vista (Disney)</td> <td>201578182</td> <td>373929700       </td> <td>1998</td>\n",
       "        </tr>\n",
       "        <tr>\n",
       "            <td>Around the World in 80 Days          </td> <td>UA                  </td> <td>42000000 </td> <td>562153800       </td> <td>1956</td>\n",
       "        </tr>\n",
       "        <tr>\n",
       "            <td>Austin Powers: The Spy Who Shagged Me</td> <td>New Line            </td> <td>206040086</td> <td>352863900       </td> <td>1999</td>\n",
       "        </tr>\n",
       "        <tr>\n",
       "            <td>Avatar                               </td> <td>Fox                 </td> <td>760507625</td> <td>846120800       </td> <td>2009</td>\n",
       "        </tr>\n",
       "        <tr>\n",
       "            <td>Avengers: Age of Ultron              </td> <td>Buena Vista (Disney)</td> <td>459005868</td> <td>465684200       </td> <td>2015</td>\n",
       "        </tr>\n",
       "        <tr>\n",
       "            <td>Back to the Future                   </td> <td>Universal           </td> <td>210609762</td> <td>513740700       </td> <td>1985</td>\n",
       "        </tr>\n",
       "        <tr>\n",
       "            <td>Bambi                                </td> <td>RKO                 </td> <td>102247150</td> <td>554298300       </td> <td>1942</td>\n",
       "        </tr>\n",
       "        <tr>\n",
       "            <td>Batman                               </td> <td>Warner Bros.        </td> <td>251188924</td> <td>547705200       </td> <td>1989</td>\n",
       "        </tr>\n",
       "    </tbody>\n",
       "</table>\n",
       "<p>... (180 rows omitted)</p>"
      ],
      "text/plain": [
       "<IPython.core.display.HTML object>"
      ]
     },
     "metadata": {},
     "output_type": "display_data"
    }
   ],
   "source": [
    "movies.show(20)"
   ]
  },
  {
   "cell_type": "code",
   "execution_count": 6,
   "metadata": {
    "collapsed": false
   },
   "outputs": [
    {
     "data": {
      "text/plain": [
       "array([1961, 1968, 1980, 1976, 1997, 1970, 1992, 2010, 1973, 2014, 1982,\n",
       "       1995, 1998, 1956, 1999, 2009, 2015, 1985, 1942, 1989, 1995, 1992,\n",
       "       1991, 1959, 1984, 1987, 1974, 2003, 1969, 2006, 2000, 1950, 1963,\n",
       "       1977, 1986, 1990, 2013, 1965, 1946, 1982, 1974, 1941, 1987, 2003,\n",
       "       1994, 2013, 1968, 2015, 1990, 1984, 1964, 1939, 1978, 1984, 2014,\n",
       "       1967, 2002, 2011, 2005, 2009, 2007, 2004, 2001, 1990, 1992, 1953,\n",
       "       2000, 1996, 2008, 1989, 1984, 2015, 2008, 2010, 2013, 1963, 1975,\n",
       "       1993, 2015, 1979, 1955, 1962, 1989, 1997, 1970, 1970, 2012, 1964,\n",
       "       2004, 1997, 2015, 1996, 2000, 2001, 1993, 2002, 1964, 1978, 2006,\n",
       "       1981, 1975, 1970, 1953, 1940, 2007, 2006, 2003, 1982, 1990, 1960,\n",
       "       1981, 1988, 1985, 1954, 1983, 1991, 1976, 1982, 2001, 1977, 1998,\n",
       "       1941, 2001, 2004, 2007, 2002, 2012, 1959, 1977, 1937, 2002, 2004,\n",
       "       2007, 1977, 1999, 2002, 2005, 2015, 1980, 1978, 1981, 1960, 1991,\n",
       "       1945, 1946, 1957, 1954, 2005, 2008, 2012, 1980, 1973, 1993, 1921,\n",
       "       1993, 1972, 1967, 1952, 2009, 2012, 2012, 2013, 2014, 2004, 1967,\n",
       "       1994, 2001, 2003, 2002, 1997, 2003, 2004, 1972, 1953, 1975, 1999,\n",
       "       1965, 1973, 1956, 1974, 2010, 2009, 1998, 1987, 1965, 1997, 1982,\n",
       "       1986, 1995, 1999, 2010, 2007, 2011, 2009, 1996, 2009, 1961, 1972,\n",
       "       1988, 1974])"
      ]
     },
     "execution_count": 6,
     "metadata": {},
     "output_type": "execute_result"
    }
   ],
   "source": [
    "movies.column('Year')"
   ]
  },
  {
   "cell_type": "code",
   "execution_count": 7,
   "metadata": {
    "collapsed": false
   },
   "outputs": [
    {
     "data": {
      "text/plain": [
       "array([57, 50, 38, 42, 21, 48, 26,  8, 45,  4, 36, 23, 20, 62, 19,  9,  3,\n",
       "       33, 76, 29, 23, 26, 27, 59, 34, 31, 44, 15, 49, 12, 18, 68, 55, 41,\n",
       "       32, 28,  5, 53, 72, 36, 44, 77, 31, 15, 24,  5, 50,  3, 28, 34, 54,\n",
       "       79, 40, 34,  4, 51, 16,  7, 13,  9, 11, 14, 17, 28, 26, 65, 18, 22,\n",
       "       10, 29, 34,  3, 10,  8,  5, 55, 43, 25,  3, 39, 63, 56, 29, 21, 48,\n",
       "       48,  6, 54, 14, 21,  3, 22, 18, 17, 25, 16, 54, 40, 12, 37, 43, 48,\n",
       "       65, 78, 11, 12, 15, 36, 28, 58, 37, 30, 33, 64, 35, 27, 42, 36, 17,\n",
       "       41, 20, 77, 17, 14, 11, 16,  6, 59, 41, 81, 16, 14, 11, 41, 19, 16,\n",
       "       13,  3, 38, 40, 37, 58, 27, 73, 72, 61, 64, 13, 10,  6, 38, 45, 25,\n",
       "       97, 25, 46, 51, 66,  9,  6,  6,  5,  4, 14, 51, 24, 17, 15, 16, 21,\n",
       "       15, 14, 46, 65, 43, 19, 53, 45, 62, 44,  8,  9, 20, 31, 53, 21, 36,\n",
       "       32, 23, 19,  8, 11,  7,  9, 22,  9, 57, 46, 30, 44])"
      ]
     },
     "execution_count": 7,
     "metadata": {},
     "output_type": "execute_result"
    }
   ],
   "source": [
    "2018 - movies.column('Year')"
   ]
  },
  {
   "cell_type": "code",
   "execution_count": 8,
   "metadata": {
    "collapsed": false
   },
   "outputs": [
    {
     "data": {
      "text/html": [
       "<table border=\"1\" class=\"dataframe\">\n",
       "    <thead>\n",
       "        <tr>\n",
       "            <th>Title</th> <th>Studio</th> <th>Gross</th> <th>Gross (Adjusted)</th> <th>Year</th> <th>Age</th>\n",
       "        </tr>\n",
       "    </thead>\n",
       "    <tbody>\n",
       "        <tr>\n",
       "            <td>101 Dalmatians            </td> <td>Disney              </td> <td>144880014</td> <td>869280100       </td> <td>1961</td> <td>57  </td>\n",
       "        </tr>\n",
       "        <tr>\n",
       "            <td>2001: A Space Odyssey     </td> <td>MGM                 </td> <td>56954992 </td> <td>377027700       </td> <td>1968</td> <td>50  </td>\n",
       "        </tr>\n",
       "        <tr>\n",
       "            <td>9 to 5                    </td> <td>Fox                 </td> <td>103290500</td> <td>334062200       </td> <td>1980</td> <td>38  </td>\n",
       "        </tr>\n",
       "        <tr>\n",
       "            <td>A Star Is Born (1976)     </td> <td>Warner Bros.        </td> <td>80000000 </td> <td>326760600       </td> <td>1976</td> <td>42  </td>\n",
       "        </tr>\n",
       "        <tr>\n",
       "            <td>Air Force One             </td> <td>Sony                </td> <td>172956409</td> <td>327752300       </td> <td>1997</td> <td>21  </td>\n",
       "        </tr>\n",
       "        <tr>\n",
       "            <td>Airport                   </td> <td>Universal           </td> <td>100489151</td> <td>575168200       </td> <td>1970</td> <td>48  </td>\n",
       "        </tr>\n",
       "        <tr>\n",
       "            <td>Aladdin                   </td> <td>Buena Vista (Disney)</td> <td>217350219</td> <td>456248400       </td> <td>1992</td> <td>26  </td>\n",
       "        </tr>\n",
       "        <tr>\n",
       "            <td>Alice in Wonderland (2010)</td> <td>Buena Vista (Disney)</td> <td>334191110</td> <td>365718600       </td> <td>2010</td> <td>8   </td>\n",
       "        </tr>\n",
       "        <tr>\n",
       "            <td>American Graffiti         </td> <td>Universal           </td> <td>115000000</td> <td>571714300       </td> <td>1973</td> <td>45  </td>\n",
       "        </tr>\n",
       "        <tr>\n",
       "            <td>American Sniper           </td> <td>Warner Bros.        </td> <td>350126372</td> <td>374796000       </td> <td>2014</td> <td>4   </td>\n",
       "        </tr>\n",
       "    </tbody>\n",
       "</table>\n",
       "<p>... (190 rows omitted)</p>"
      ],
      "text/plain": [
       "Title                      | Studio               | Gross     | Gross (Adjusted) | Year | Age\n",
       "101 Dalmatians             | Disney               | 144880014 | 869280100        | 1961 | 57\n",
       "2001: A Space Odyssey      | MGM                  | 56954992  | 377027700        | 1968 | 50\n",
       "9 to 5                     | Fox                  | 103290500 | 334062200        | 1980 | 38\n",
       "A Star Is Born (1976)      | Warner Bros.         | 80000000  | 326760600        | 1976 | 42\n",
       "Air Force One              | Sony                 | 172956409 | 327752300        | 1997 | 21\n",
       "Airport                    | Universal            | 100489151 | 575168200        | 1970 | 48\n",
       "Aladdin                    | Buena Vista (Disney) | 217350219 | 456248400        | 1992 | 26\n",
       "Alice in Wonderland (2010) | Buena Vista (Disney) | 334191110 | 365718600        | 2010 | 8\n",
       "American Graffiti          | Universal            | 115000000 | 571714300        | 1973 | 45\n",
       "American Sniper            | Warner Bros.         | 350126372 | 374796000        | 2014 | 4\n",
       "... (190 rows omitted)"
      ]
     },
     "execution_count": 8,
     "metadata": {},
     "output_type": "execute_result"
    }
   ],
   "source": [
    "movies.with_column(\n",
    "  'Age', 2018 - movies.column('Year')\n",
    ")"
   ]
  },
  {
   "cell_type": "code",
   "execution_count": 9,
   "metadata": {
    "collapsed": false
   },
   "outputs": [
    {
     "data": {
      "text/plain": [
       "array([57, 50, 38, 42, 21, 48, 26,  8, 45,  4, 36, 23, 20, 62, 19,  9,  3,\n",
       "       33, 76, 29, 23, 26, 27, 59, 34, 31, 44, 15, 49, 12, 18, 68, 55, 41,\n",
       "       32, 28,  5, 53, 72, 36, 44, 77, 31, 15, 24,  5, 50,  3, 28, 34, 54,\n",
       "       79, 40, 34,  4, 51, 16,  7, 13,  9, 11, 14, 17, 28, 26, 65, 18, 22,\n",
       "       10, 29, 34,  3, 10,  8,  5, 55, 43, 25,  3, 39, 63, 56, 29, 21, 48,\n",
       "       48,  6, 54, 14, 21,  3, 22, 18, 17, 25, 16, 54, 40, 12, 37, 43, 48,\n",
       "       65, 78, 11, 12, 15, 36, 28, 58, 37, 30, 33, 64, 35, 27, 42, 36, 17,\n",
       "       41, 20, 77, 17, 14, 11, 16,  6, 59, 41, 81, 16, 14, 11, 41, 19, 16,\n",
       "       13,  3, 38, 40, 37, 58, 27, 73, 72, 61, 64, 13, 10,  6, 38, 45, 25,\n",
       "       97, 25, 46, 51, 66,  9,  6,  6,  5,  4, 14, 51, 24, 17, 15, 16, 21,\n",
       "       15, 14, 46, 65, 43, 19, 53, 45, 62, 44,  8,  9, 20, 31, 53, 21, 36,\n",
       "       32, 23, 19,  8, 11,  7,  9, 22,  9, 57, 46, 30, 44])"
      ]
     },
     "execution_count": 9,
     "metadata": {},
     "output_type": "execute_result"
    }
   ],
   "source": [
    "age = 2018 - movies.column('Year')\n",
    "age"
   ]
  },
  {
   "cell_type": "code",
   "execution_count": 10,
   "metadata": {
    "collapsed": false
   },
   "outputs": [
    {
     "data": {
      "text/html": [
       "<table border=\"1\" class=\"dataframe\">\n",
       "    <thead>\n",
       "        <tr>\n",
       "            <th>Title</th> <th>Studio</th> <th>Gross</th> <th>Gross (Adjusted)</th> <th>Year</th> <th>Age</th>\n",
       "        </tr>\n",
       "    </thead>\n",
       "    <tbody>\n",
       "        <tr>\n",
       "            <td>101 Dalmatians            </td> <td>Disney              </td> <td>144880014</td> <td>869280100       </td> <td>1961</td> <td>57  </td>\n",
       "        </tr>\n",
       "        <tr>\n",
       "            <td>2001: A Space Odyssey     </td> <td>MGM                 </td> <td>56954992 </td> <td>377027700       </td> <td>1968</td> <td>50  </td>\n",
       "        </tr>\n",
       "        <tr>\n",
       "            <td>9 to 5                    </td> <td>Fox                 </td> <td>103290500</td> <td>334062200       </td> <td>1980</td> <td>38  </td>\n",
       "        </tr>\n",
       "        <tr>\n",
       "            <td>A Star Is Born (1976)     </td> <td>Warner Bros.        </td> <td>80000000 </td> <td>326760600       </td> <td>1976</td> <td>42  </td>\n",
       "        </tr>\n",
       "        <tr>\n",
       "            <td>Air Force One             </td> <td>Sony                </td> <td>172956409</td> <td>327752300       </td> <td>1997</td> <td>21  </td>\n",
       "        </tr>\n",
       "        <tr>\n",
       "            <td>Airport                   </td> <td>Universal           </td> <td>100489151</td> <td>575168200       </td> <td>1970</td> <td>48  </td>\n",
       "        </tr>\n",
       "        <tr>\n",
       "            <td>Aladdin                   </td> <td>Buena Vista (Disney)</td> <td>217350219</td> <td>456248400       </td> <td>1992</td> <td>26  </td>\n",
       "        </tr>\n",
       "        <tr>\n",
       "            <td>Alice in Wonderland (2010)</td> <td>Buena Vista (Disney)</td> <td>334191110</td> <td>365718600       </td> <td>2010</td> <td>8   </td>\n",
       "        </tr>\n",
       "        <tr>\n",
       "            <td>American Graffiti         </td> <td>Universal           </td> <td>115000000</td> <td>571714300       </td> <td>1973</td> <td>45  </td>\n",
       "        </tr>\n",
       "        <tr>\n",
       "            <td>American Sniper           </td> <td>Warner Bros.        </td> <td>350126372</td> <td>374796000       </td> <td>2014</td> <td>4   </td>\n",
       "        </tr>\n",
       "    </tbody>\n",
       "</table>\n",
       "<p>... (190 rows omitted)</p>"
      ],
      "text/plain": [
       "Title                      | Studio               | Gross     | Gross (Adjusted) | Year | Age\n",
       "101 Dalmatians             | Disney               | 144880014 | 869280100        | 1961 | 57\n",
       "2001: A Space Odyssey      | MGM                  | 56954992  | 377027700        | 1968 | 50\n",
       "9 to 5                     | Fox                  | 103290500 | 334062200        | 1980 | 38\n",
       "A Star Is Born (1976)      | Warner Bros.         | 80000000  | 326760600        | 1976 | 42\n",
       "Air Force One              | Sony                 | 172956409 | 327752300        | 1997 | 21\n",
       "Airport                    | Universal            | 100489151 | 575168200        | 1970 | 48\n",
       "Aladdin                    | Buena Vista (Disney) | 217350219 | 456248400        | 1992 | 26\n",
       "Alice in Wonderland (2010) | Buena Vista (Disney) | 334191110 | 365718600        | 2010 | 8\n",
       "American Graffiti          | Universal            | 115000000 | 571714300        | 1973 | 45\n",
       "American Sniper            | Warner Bros.         | 350126372 | 374796000        | 2014 | 4\n",
       "... (190 rows omitted)"
      ]
     },
     "execution_count": 10,
     "metadata": {},
     "output_type": "execute_result"
    }
   ],
   "source": [
    "movies = movies.with_column('Age', age)\n",
    "movies"
   ]
  },
  {
   "cell_type": "code",
   "execution_count": 11,
   "metadata": {
    "collapsed": false
   },
   "outputs": [
    {
     "data": {
      "text/html": [
       "<table border=\"1\" class=\"dataframe\">\n",
       "    <thead>\n",
       "        <tr>\n",
       "            <th>Title</th> <th>Studio</th> <th>Gross</th> <th>Gross (Adjusted)</th> <th>Year</th> <th>Age</th>\n",
       "        </tr>\n",
       "    </thead>\n",
       "    <tbody>\n",
       "        <tr>\n",
       "            <td>Avengers: Age of Ultron                    </td> <td>Buena Vista (Disney)   </td> <td>459005868</td> <td>465684200       </td> <td>2015</td> <td>3   </td>\n",
       "        </tr>\n",
       "        <tr>\n",
       "            <td>Furious 7                                  </td> <td>Universal              </td> <td>353007020</td> <td>356907000       </td> <td>2015</td> <td>3   </td>\n",
       "        </tr>\n",
       "        <tr>\n",
       "            <td>Inside Out                                 </td> <td>Buena Vista (Disney)   </td> <td>356461711</td> <td>375723400       </td> <td>2015</td> <td>3   </td>\n",
       "        </tr>\n",
       "        <tr>\n",
       "            <td>Jurassic World                             </td> <td>Universal              </td> <td>652270625</td> <td>687728000       </td> <td>2015</td> <td>3   </td>\n",
       "        </tr>\n",
       "        <tr>\n",
       "            <td>Minions                                    </td> <td>Universal              </td> <td>336045770</td> <td>354213900       </td> <td>2015</td> <td>3   </td>\n",
       "        </tr>\n",
       "        <tr>\n",
       "            <td>Star Wars: The Force Awakens               </td> <td>Buena Vista (Disney)   </td> <td>906723418</td> <td>906723400       </td> <td>2015</td> <td>3   </td>\n",
       "        </tr>\n",
       "        <tr>\n",
       "            <td>American Sniper                            </td> <td>Warner Bros.           </td> <td>350126372</td> <td>374796000       </td> <td>2014</td> <td>4   </td>\n",
       "        </tr>\n",
       "        <tr>\n",
       "            <td>Guardians of the Galaxy                    </td> <td>Buena Vista (Disney)   </td> <td>333176600</td> <td>358244800       </td> <td>2014</td> <td>4   </td>\n",
       "        </tr>\n",
       "        <tr>\n",
       "            <td>The Hunger Games: Mockingjay - Part 1      </td> <td>Lionsgate              </td> <td>337135885</td> <td>354324000       </td> <td>2014</td> <td>4   </td>\n",
       "        </tr>\n",
       "        <tr>\n",
       "            <td>Despicable Me 2                            </td> <td>Universal              </td> <td>368061265</td> <td>407978700       </td> <td>2013</td> <td>5   </td>\n",
       "        </tr>\n",
       "        <tr>\n",
       "            <td>Frozen                                     </td> <td>Buena Vista (Disney)   </td> <td>400738009</td> <td>426656900       </td> <td>2013</td> <td>5   </td>\n",
       "        </tr>\n",
       "        <tr>\n",
       "            <td>Iron Man 3                                 </td> <td>Buena Vista (Disney)   </td> <td>409013994</td> <td>424632700       </td> <td>2013</td> <td>5   </td>\n",
       "        </tr>\n",
       "        <tr>\n",
       "            <td>The Hunger Games: Catching Fire            </td> <td>Lionsgate              </td> <td>424668047</td> <td>444697400       </td> <td>2013</td> <td>5   </td>\n",
       "        </tr>\n",
       "        <tr>\n",
       "            <td>Marvel's The Avengers                      </td> <td>Buena Vista (Disney)   </td> <td>623357910</td> <td>668866600       </td> <td>2012</td> <td>6   </td>\n",
       "        </tr>\n",
       "        <tr>\n",
       "            <td>Skyfall                                    </td> <td>Sony                   </td> <td>304360277</td> <td>329225400       </td> <td>2012</td> <td>6   </td>\n",
       "        </tr>\n",
       "        <tr>\n",
       "            <td>The Dark Knight Rises                      </td> <td>Warner Bros.           </td> <td>448139099</td> <td>500961700       </td> <td>2012</td> <td>6   </td>\n",
       "        </tr>\n",
       "        <tr>\n",
       "            <td>The Hobbit: An Unexpected Journey          </td> <td>Warner Bros. (New Line)</td> <td>303003568</td> <td>329153300       </td> <td>2012</td> <td>6   </td>\n",
       "        </tr>\n",
       "        <tr>\n",
       "            <td>The Hunger Games                           </td> <td>Lionsgate              </td> <td>408010692</td> <td>442510400       </td> <td>2012</td> <td>6   </td>\n",
       "        </tr>\n",
       "        <tr>\n",
       "            <td>Harry Potter and the Deathly Hallows Part 2</td> <td>Warner Bros.           </td> <td>381011219</td> <td>417512200       </td> <td>2011</td> <td>7   </td>\n",
       "        </tr>\n",
       "        <tr>\n",
       "            <td>Transformers: Dark of the Moon             </td> <td>Paramount/Dreamworks   </td> <td>352390543</td> <td>385069700       </td> <td>2011</td> <td>7   </td>\n",
       "        </tr>\n",
       "    </tbody>\n",
       "</table>\n",
       "<p>... (180 rows omitted)</p>"
      ],
      "text/plain": [
       "<IPython.core.display.HTML object>"
      ]
     },
     "metadata": {},
     "output_type": "display_data"
    }
   ],
   "source": [
    "movies.sort('Age').show(20)"
   ]
  },
  {
   "cell_type": "code",
   "execution_count": 12,
   "metadata": {
    "collapsed": false
   },
   "outputs": [
    {
     "data": {
      "image/png": "[encoded data removed]",
      "text/plain": [
       "<matplotlib.figure.Figure at 0x1132c4358>"
      ]
     },
     "metadata": {},
     "output_type": "display_data"
    }
   ],
   "source": [
    "movies.scatter('Age', 'Gross')"
   ]
  },
  {
   "cell_type": "code",
   "execution_count": 13,
   "metadata": {
    "collapsed": false
   },
   "outputs": [
    {
     "data": {
      "image/png": "[encoded data removed]",
      "text/plain": [
       "<matplotlib.figure.Figure at 0x11667c3c8>"
      ]
     },
     "metadata": {},
     "output_type": "display_data"
    }
   ],
   "source": [
    "movies.scatter('Age', 'Gross (Adjusted)')"
   ]
  },
  {
   "cell_type": "code",
   "execution_count": 14,
   "metadata": {
    "collapsed": false
   },
   "outputs": [
    {
     "data": {
      "text/html": [
       "<table border=\"1\" class=\"dataframe\">\n",
       "    <thead>\n",
       "        <tr>\n",
       "            \n",
       "        </tr>\n",
       "    </thead>\n",
       "    <tbody>\n",
       "    </tbody>\n",
       "</table>"
      ],
      "text/plain": []
     },
     "execution_count": 14,
     "metadata": {},
     "output_type": "execute_result"
    }
   ],
   "source": [
    "#manipulating tables\n",
    "# let's recreate: https://en.wikipedia.org/wiki/2014_Winter_Olympics_medal_table\n",
    "\n",
    "Table()"
   ]
  },
  {
   "cell_type": "code",
   "execution_count": 15,
   "metadata": {
    "collapsed": false
   },
   "outputs": [
    {
     "data": {
      "text/plain": [
       "array(['Russia', 'US', 'Norway'], \n",
       "      dtype='<U6')"
      ]
     },
     "execution_count": 15,
     "metadata": {},
     "output_type": "execute_result"
    }
   ],
   "source": [
    "countries = make_array('Russia', 'US', 'Norway')\n",
    "countries"
   ]
  },
  {
   "cell_type": "code",
   "execution_count": 16,
   "metadata": {
    "collapsed": false
   },
   "outputs": [
    {
     "data": {
      "text/html": [
       "<table border=\"1\" class=\"dataframe\">\n",
       "    <thead>\n",
       "        <tr>\n",
       "            <th>Country</th>\n",
       "        </tr>\n",
       "    </thead>\n",
       "    <tbody>\n",
       "        <tr>\n",
       "            <td>Russia </td>\n",
       "        </tr>\n",
       "        <tr>\n",
       "            <td>US     </td>\n",
       "        </tr>\n",
       "        <tr>\n",
       "            <td>Norway </td>\n",
       "        </tr>\n",
       "    </tbody>\n",
       "</table>"
      ],
      "text/plain": [
       "Country\n",
       "Russia\n",
       "US\n",
       "Norway"
      ]
     },
     "execution_count": 16,
     "metadata": {},
     "output_type": "execute_result"
    }
   ],
   "source": [
    "Table().with_column(\n",
    "  'Country', countries\n",
    ")"
   ]
  },
  {
   "cell_type": "code",
   "execution_count": 17,
   "metadata": {
    "collapsed": false
   },
   "outputs": [
    {
     "data": {
      "text/plain": [
       "array([29, 28, 26])"
      ]
     },
     "execution_count": 17,
     "metadata": {},
     "output_type": "execute_result"
    }
   ],
   "source": [
    "medals = make_array(29, 28, 26)\n",
    "medals"
   ]
  },
  {
   "cell_type": "code",
   "execution_count": 18,
   "metadata": {
    "collapsed": true
   },
   "outputs": [],
   "source": [
    "medal_count = Table().with_columns(\n",
    "  'Country', countries, \n",
    "  'Medals', medals\n",
    ")"
   ]
  },
  {
   "cell_type": "code",
   "execution_count": 19,
   "metadata": {
    "collapsed": false
   },
   "outputs": [
    {
     "data": {
      "text/html": [
       "<table border=\"1\" class=\"dataframe\">\n",
       "    <thead>\n",
       "        <tr>\n",
       "            <th>Country</th> <th>Medals</th> <th>Gold</th>\n",
       "        </tr>\n",
       "    </thead>\n",
       "    <tbody>\n",
       "        <tr>\n",
       "            <td>Russia </td> <td>29    </td> <td>11  </td>\n",
       "        </tr>\n",
       "        <tr>\n",
       "            <td>US     </td> <td>28    </td> <td>9   </td>\n",
       "        </tr>\n",
       "        <tr>\n",
       "            <td>Norway </td> <td>26    </td> <td>11  </td>\n",
       "        </tr>\n",
       "    </tbody>\n",
       "</table>"
      ],
      "text/plain": [
       "Country | Medals | Gold\n",
       "Russia  | 29     | 11\n",
       "US      | 28     | 9\n",
       "Norway  | 26     | 11"
      ]
     },
     "execution_count": 19,
     "metadata": {},
     "output_type": "execute_result"
    }
   ],
   "source": [
    "medal_count = medal_count.with_column(\n",
    "  'Gold', make_array(11,9,11)\n",
    ")\n",
    "medal_count"
   ]
  },
  {
   "cell_type": "code",
   "execution_count": 20,
   "metadata": {
    "collapsed": false
   },
   "outputs": [
    {
     "data": {
      "text/html": [
       "<table border=\"1\" class=\"dataframe\">\n",
       "    <thead>\n",
       "        <tr>\n",
       "            <th>Country</th> <th>Medals</th> <th>Gold</th>\n",
       "        </tr>\n",
       "    </thead>\n",
       "    <tbody>\n",
       "        <tr>\n",
       "            <td>Russia </td> <td>29    </td> <td>11  </td>\n",
       "        </tr>\n",
       "        <tr>\n",
       "            <td>US     </td> <td>28    </td> <td>9   </td>\n",
       "        </tr>\n",
       "        <tr>\n",
       "            <td>Norway </td> <td>26    </td> <td>11  </td>\n",
       "        </tr>\n",
       "    </tbody>\n",
       "</table>"
      ],
      "text/plain": [
       "Country | Medals | Gold\n",
       "Russia  | 29     | 11\n",
       "US      | 28     | 9\n",
       "Norway  | 26     | 11"
      ]
     },
     "execution_count": 20,
     "metadata": {},
     "output_type": "execute_result"
    }
   ],
   "source": [
    "medal_count"
   ]
  },
  {
   "cell_type": "code",
   "execution_count": 21,
   "metadata": {
    "collapsed": false
   },
   "outputs": [
    {
     "data": {
      "text/html": [
       "<table border=\"1\" class=\"dataframe\">\n",
       "    <thead>\n",
       "        <tr>\n",
       "            <th>Longitude</th> <th>Latitude</th> <th>City</th> <th>Direction</th> <th>Survivors</th>\n",
       "        </tr>\n",
       "    </thead>\n",
       "    <tbody>\n",
       "        <tr>\n",
       "            <td>32       </td> <td>54.8    </td> <td>Smolensk   </td> <td>Advance  </td> <td>145000   </td>\n",
       "        </tr>\n",
       "        <tr>\n",
       "            <td>33.2     </td> <td>54.9    </td> <td>Dorogobouge</td> <td>Advance  </td> <td>140000   </td>\n",
       "        </tr>\n",
       "        <tr>\n",
       "            <td>34.4     </td> <td>55.5    </td> <td>Chjat      </td> <td>Advance  </td> <td>127100   </td>\n",
       "        </tr>\n",
       "        <tr>\n",
       "            <td>37.6     </td> <td>55.8    </td> <td>Moscou     </td> <td>Advance  </td> <td>100000   </td>\n",
       "        </tr>\n",
       "        <tr>\n",
       "            <td>34.3     </td> <td>55.2    </td> <td>Wixma      </td> <td>Retreat  </td> <td>55000    </td>\n",
       "        </tr>\n",
       "        <tr>\n",
       "            <td>32       </td> <td>54.6    </td> <td>Smolensk   </td> <td>Retreat  </td> <td>24000    </td>\n",
       "        </tr>\n",
       "        <tr>\n",
       "            <td>30.4     </td> <td>54.4    </td> <td>Orscha     </td> <td>Retreat  </td> <td>20000    </td>\n",
       "        </tr>\n",
       "        <tr>\n",
       "            <td>26.8     </td> <td>54.3    </td> <td>Moiodexno  </td> <td>Retreat  </td> <td>12000    </td>\n",
       "        </tr>\n",
       "    </tbody>\n",
       "</table>"
      ],
      "text/plain": [
       "Longitude | Latitude | City        | Direction | Survivors\n",
       "32        | 54.8     | Smolensk    | Advance   | 145000\n",
       "33.2      | 54.9     | Dorogobouge | Advance   | 140000\n",
       "34.4      | 55.5     | Chjat       | Advance   | 127100\n",
       "37.6      | 55.8     | Moscou      | Advance   | 100000\n",
       "34.3      | 55.2     | Wixma       | Retreat   | 55000\n",
       "32        | 54.6     | Smolensk    | Retreat   | 24000\n",
       "30.4      | 54.4     | Orscha      | Retreat   | 20000\n",
       "26.8      | 54.3     | Moiodexno   | Retreat   | 12000"
      ]
     },
     "execution_count": 21,
     "metadata": {},
     "output_type": "execute_result"
    }
   ],
   "source": [
    "minard = Table.read_table('minard.csv')\n",
    "minard"
   ]
  },
  {
   "cell_type": "code",
   "execution_count": 22,
   "metadata": {
    "collapsed": false
   },
   "outputs": [
    {
     "data": {
      "text/plain": [
       "5"
      ]
     },
     "execution_count": 22,
     "metadata": {},
     "output_type": "execute_result"
    }
   ],
   "source": [
    "minard.num_columns"
   ]
  },
  {
   "cell_type": "code",
   "execution_count": 23,
   "metadata": {
    "collapsed": false
   },
   "outputs": [
    {
     "data": {
      "text/plain": [
       "8"
      ]
     },
     "execution_count": 23,
     "metadata": {},
     "output_type": "execute_result"
    }
   ],
   "source": [
    "minard.num_rows"
   ]
  },
  {
   "cell_type": "code",
   "execution_count": 24,
   "metadata": {
    "collapsed": false
   },
   "outputs": [
    {
     "data": {
      "text/plain": [
       "('Longitude', 'Latitude', 'City', 'Direction', 'Survivors')"
      ]
     },
     "execution_count": 24,
     "metadata": {},
     "output_type": "execute_result"
    }
   ],
   "source": [
    "minard.labels"
   ]
  },
  {
   "cell_type": "code",
   "execution_count": 25,
   "metadata": {
    "collapsed": false
   },
   "outputs": [
    {
     "data": {
      "text/plain": [
       "array([145000, 140000, 127100, 100000,  55000,  24000,  20000,  12000])"
      ]
     },
     "execution_count": 25,
     "metadata": {},
     "output_type": "execute_result"
    }
   ],
   "source": [
    "minard.column('Survivors')"
   ]
  },
  {
   "cell_type": "code",
   "execution_count": 26,
   "metadata": {
    "collapsed": false
   },
   "outputs": [
    {
     "data": {
      "text/plain": [
       "145000"
      ]
     },
     "execution_count": 26,
     "metadata": {},
     "output_type": "execute_result"
    }
   ],
   "source": [
    "initial_size = minard.column('Survivors').item(0)\n",
    "initial_size"
   ]
  },
  {
   "cell_type": "code",
   "execution_count": 27,
   "metadata": {
    "collapsed": false
   },
   "outputs": [
    {
     "data": {
      "text/plain": [
       "array([ 1.        ,  0.96551724,  0.87655172,  0.68965517,  0.37931034,\n",
       "        0.16551724,  0.13793103,  0.08275862])"
      ]
     },
     "execution_count": 27,
     "metadata": {},
     "output_type": "execute_result"
    }
   ],
   "source": [
    "proportion_surviving = minard.column('Survivors') / initial_size\n",
    "proportion_surviving"
   ]
  },
  {
   "cell_type": "code",
   "execution_count": 28,
   "metadata": {
    "collapsed": false
   },
   "outputs": [
    {
     "data": {
      "text/html": [
       "<table border=\"1\" class=\"dataframe\">\n",
       "    <thead>\n",
       "        <tr>\n",
       "            <th>Longitude</th> <th>Latitude</th> <th>City</th> <th>Direction</th> <th>Survivors</th> <th>Proportion Surviving</th>\n",
       "        </tr>\n",
       "    </thead>\n",
       "    <tbody>\n",
       "        <tr>\n",
       "            <td>32       </td> <td>54.8    </td> <td>Smolensk   </td> <td>Advance  </td> <td>145000   </td> <td>1                   </td>\n",
       "        </tr>\n",
       "        <tr>\n",
       "            <td>33.2     </td> <td>54.9    </td> <td>Dorogobouge</td> <td>Advance  </td> <td>140000   </td> <td>0.965517            </td>\n",
       "        </tr>\n",
       "        <tr>\n",
       "            <td>34.4     </td> <td>55.5    </td> <td>Chjat      </td> <td>Advance  </td> <td>127100   </td> <td>0.876552            </td>\n",
       "        </tr>\n",
       "        <tr>\n",
       "            <td>37.6     </td> <td>55.8    </td> <td>Moscou     </td> <td>Advance  </td> <td>100000   </td> <td>0.689655            </td>\n",
       "        </tr>\n",
       "        <tr>\n",
       "            <td>34.3     </td> <td>55.2    </td> <td>Wixma      </td> <td>Retreat  </td> <td>55000    </td> <td>0.37931             </td>\n",
       "        </tr>\n",
       "        <tr>\n",
       "            <td>32       </td> <td>54.6    </td> <td>Smolensk   </td> <td>Retreat  </td> <td>24000    </td> <td>0.165517            </td>\n",
       "        </tr>\n",
       "        <tr>\n",
       "            <td>30.4     </td> <td>54.4    </td> <td>Orscha     </td> <td>Retreat  </td> <td>20000    </td> <td>0.137931            </td>\n",
       "        </tr>\n",
       "        <tr>\n",
       "            <td>26.8     </td> <td>54.3    </td> <td>Moiodexno  </td> <td>Retreat  </td> <td>12000    </td> <td>0.0827586           </td>\n",
       "        </tr>\n",
       "    </tbody>\n",
       "</table>"
      ],
      "text/plain": [
       "Longitude | Latitude | City        | Direction | Survivors | Proportion Surviving\n",
       "32        | 54.8     | Smolensk    | Advance   | 145000    | 1\n",
       "33.2      | 54.9     | Dorogobouge | Advance   | 140000    | 0.965517\n",
       "34.4      | 55.5     | Chjat       | Advance   | 127100    | 0.876552\n",
       "37.6      | 55.8     | Moscou      | Advance   | 100000    | 0.689655\n",
       "34.3      | 55.2     | Wixma       | Retreat   | 55000     | 0.37931\n",
       "32        | 54.6     | Smolensk    | Retreat   | 24000     | 0.165517\n",
       "30.4      | 54.4     | Orscha      | Retreat   | 20000     | 0.137931\n",
       "26.8      | 54.3     | Moiodexno   | Retreat   | 12000     | 0.0827586"
      ]
     },
     "execution_count": 28,
     "metadata": {},
     "output_type": "execute_result"
    }
   ],
   "source": [
    "with_proportions = minard.with_column(\n",
    "    'Proportion Surviving', proportion_surviving\n",
    ")\n",
    "with_proportions"
   ]
  },
  {
   "cell_type": "code",
   "execution_count": 29,
   "metadata": {
    "collapsed": false
   },
   "outputs": [
    {
     "data": {
      "text/html": [
       "<table border=\"1\" class=\"dataframe\">\n",
       "    <thead>\n",
       "        <tr>\n",
       "            <th>Longitude</th> <th>Latitude</th> <th>City</th> <th>Direction</th> <th>Survivors</th> <th>Proportion Surviving</th>\n",
       "        </tr>\n",
       "    </thead>\n",
       "    <tbody>\n",
       "        <tr>\n",
       "            <td>32       </td> <td>54.8    </td> <td>Smolensk   </td> <td>Advance  </td> <td>145000   </td> <td>100.00%             </td>\n",
       "        </tr>\n",
       "        <tr>\n",
       "            <td>33.2     </td> <td>54.9    </td> <td>Dorogobouge</td> <td>Advance  </td> <td>140000   </td> <td>96.55%              </td>\n",
       "        </tr>\n",
       "        <tr>\n",
       "            <td>34.4     </td> <td>55.5    </td> <td>Chjat      </td> <td>Advance  </td> <td>127100   </td> <td>87.66%              </td>\n",
       "        </tr>\n",
       "        <tr>\n",
       "            <td>37.6     </td> <td>55.8    </td> <td>Moscou     </td> <td>Advance  </td> <td>100000   </td> <td>68.97%              </td>\n",
       "        </tr>\n",
       "        <tr>\n",
       "            <td>34.3     </td> <td>55.2    </td> <td>Wixma      </td> <td>Retreat  </td> <td>55000    </td> <td>37.93%              </td>\n",
       "        </tr>\n",
       "        <tr>\n",
       "            <td>32       </td> <td>54.6    </td> <td>Smolensk   </td> <td>Retreat  </td> <td>24000    </td> <td>16.55%              </td>\n",
       "        </tr>\n",
       "        <tr>\n",
       "            <td>30.4     </td> <td>54.4    </td> <td>Orscha     </td> <td>Retreat  </td> <td>20000    </td> <td>13.79%              </td>\n",
       "        </tr>\n",
       "        <tr>\n",
       "            <td>26.8     </td> <td>54.3    </td> <td>Moiodexno  </td> <td>Retreat  </td> <td>12000    </td> <td>8.28%               </td>\n",
       "        </tr>\n",
       "    </tbody>\n",
       "</table>"
      ],
      "text/plain": [
       "Longitude | Latitude | City        | Direction | Survivors | Proportion Surviving\n",
       "32        | 54.8     | Smolensk    | Advance   | 145000    | 100.00%\n",
       "33.2      | 54.9     | Dorogobouge | Advance   | 140000    | 96.55%\n",
       "34.4      | 55.5     | Chjat       | Advance   | 127100    | 87.66%\n",
       "37.6      | 55.8     | Moscou      | Advance   | 100000    | 68.97%\n",
       "34.3      | 55.2     | Wixma       | Retreat   | 55000     | 37.93%\n",
       "32        | 54.6     | Smolensk    | Retreat   | 24000     | 16.55%\n",
       "30.4      | 54.4     | Orscha      | Retreat   | 20000     | 13.79%\n",
       "26.8      | 54.3     | Moiodexno   | Retreat   | 12000     | 8.28%"
      ]
     },
     "execution_count": 29,
     "metadata": {},
     "output_type": "execute_result"
    }
   ],
   "source": [
    "with_proportions.set_format('Proportion Surviving', PercentFormatter)\n"
   ]
  },
  {
   "cell_type": "code",
   "execution_count": 30,
   "metadata": {
    "collapsed": false
   },
   "outputs": [
    {
     "data": {
      "text/html": [
       "<table border=\"1\" class=\"dataframe\">\n",
       "    <thead>\n",
       "        <tr>\n",
       "            <th>Longitude</th> <th>Latitude</th> <th>City</th> <th>Direction</th> <th>Survivors</th>\n",
       "        </tr>\n",
       "    </thead>\n",
       "    <tbody>\n",
       "        <tr>\n",
       "            <td>32       </td> <td>54.8    </td> <td>Smolensk   </td> <td>Advance  </td> <td>145000   </td>\n",
       "        </tr>\n",
       "        <tr>\n",
       "            <td>33.2     </td> <td>54.9    </td> <td>Dorogobouge</td> <td>Advance  </td> <td>140000   </td>\n",
       "        </tr>\n",
       "        <tr>\n",
       "            <td>34.4     </td> <td>55.5    </td> <td>Chjat      </td> <td>Advance  </td> <td>127100   </td>\n",
       "        </tr>\n",
       "        <tr>\n",
       "            <td>37.6     </td> <td>55.8    </td> <td>Moscou     </td> <td>Advance  </td> <td>100000   </td>\n",
       "        </tr>\n",
       "        <tr>\n",
       "            <td>34.3     </td> <td>55.2    </td> <td>Wixma      </td> <td>Retreat  </td> <td>55000    </td>\n",
       "        </tr>\n",
       "        <tr>\n",
       "            <td>32       </td> <td>54.6    </td> <td>Smolensk   </td> <td>Retreat  </td> <td>24000    </td>\n",
       "        </tr>\n",
       "        <tr>\n",
       "            <td>30.4     </td> <td>54.4    </td> <td>Orscha     </td> <td>Retreat  </td> <td>20000    </td>\n",
       "        </tr>\n",
       "        <tr>\n",
       "            <td>26.8     </td> <td>54.3    </td> <td>Moiodexno  </td> <td>Retreat  </td> <td>12000    </td>\n",
       "        </tr>\n",
       "    </tbody>\n",
       "</table>"
      ],
      "text/plain": [
       "Longitude | Latitude | City        | Direction | Survivors\n",
       "32        | 54.8     | Smolensk    | Advance   | 145000\n",
       "33.2      | 54.9     | Dorogobouge | Advance   | 140000\n",
       "34.4      | 55.5     | Chjat       | Advance   | 127100\n",
       "37.6      | 55.8     | Moscou      | Advance   | 100000\n",
       "34.3      | 55.2     | Wixma       | Retreat   | 55000\n",
       "32        | 54.6     | Smolensk    | Retreat   | 24000\n",
       "30.4      | 54.4     | Orscha      | Retreat   | 20000\n",
       "26.8      | 54.3     | Moiodexno   | Retreat   | 12000"
      ]
     },
     "execution_count": 30,
     "metadata": {},
     "output_type": "execute_result"
    }
   ],
   "source": [
    "minard"
   ]
  },
  {
   "cell_type": "code",
   "execution_count": 31,
   "metadata": {
    "collapsed": false
   },
   "outputs": [
    {
     "data": {
      "text/html": [
       "<table border=\"1\" class=\"dataframe\">\n",
       "    <thead>\n",
       "        <tr>\n",
       "            <th>Longitude</th> <th>Latitude</th> <th>City</th> <th>Direction</th> <th>Survivors</th>\n",
       "        </tr>\n",
       "    </thead>\n",
       "    <tbody>\n",
       "        <tr>\n",
       "            <td>32       </td> <td>54.8    </td> <td>Smolensk</td> <td>Advance  </td> <td>145000   </td>\n",
       "        </tr>\n",
       "    </tbody>\n",
       "</table>"
      ],
      "text/plain": [
       "Longitude | Latitude | City     | Direction | Survivors\n",
       "32        | 54.8     | Smolensk | Advance   | 145000"
      ]
     },
     "execution_count": 31,
     "metadata": {},
     "output_type": "execute_result"
    }
   ],
   "source": [
    "minard.take(0)"
   ]
  },
  {
   "cell_type": "code",
   "execution_count": 32,
   "metadata": {
    "collapsed": false
   },
   "outputs": [
    {
     "data": {
      "text/plain": [
       "array([0, 1, 2, 3])"
      ]
     },
     "execution_count": 32,
     "metadata": {},
     "output_type": "execute_result"
    }
   ],
   "source": [
    "np.arange(0, 4)"
   ]
  },
  {
   "cell_type": "code",
   "execution_count": 33,
   "metadata": {
    "collapsed": false
   },
   "outputs": [
    {
     "data": {
      "text/html": [
       "<table border=\"1\" class=\"dataframe\">\n",
       "    <thead>\n",
       "        <tr>\n",
       "            <th>Longitude</th> <th>Latitude</th> <th>City</th> <th>Direction</th> <th>Survivors</th>\n",
       "        </tr>\n",
       "    </thead>\n",
       "    <tbody>\n",
       "        <tr>\n",
       "            <td>32       </td> <td>54.8    </td> <td>Smolensk   </td> <td>Advance  </td> <td>145000   </td>\n",
       "        </tr>\n",
       "        <tr>\n",
       "            <td>33.2     </td> <td>54.9    </td> <td>Dorogobouge</td> <td>Advance  </td> <td>140000   </td>\n",
       "        </tr>\n",
       "        <tr>\n",
       "            <td>34.4     </td> <td>55.5    </td> <td>Chjat      </td> <td>Advance  </td> <td>127100   </td>\n",
       "        </tr>\n",
       "        <tr>\n",
       "            <td>37.6     </td> <td>55.8    </td> <td>Moscou     </td> <td>Advance  </td> <td>100000   </td>\n",
       "        </tr>\n",
       "    </tbody>\n",
       "</table>"
      ],
      "text/plain": [
       "Longitude | Latitude | City        | Direction | Survivors\n",
       "32        | 54.8     | Smolensk    | Advance   | 145000\n",
       "33.2      | 54.9     | Dorogobouge | Advance   | 140000\n",
       "34.4      | 55.5     | Chjat       | Advance   | 127100\n",
       "37.6      | 55.8     | Moscou      | Advance   | 100000"
      ]
     },
     "execution_count": 33,
     "metadata": {},
     "output_type": "execute_result"
    }
   ],
   "source": [
    "minard.take(np.arange(0,4))"
   ]
  },
  {
   "cell_type": "code",
   "execution_count": 34,
   "metadata": {
    "collapsed": false
   },
   "outputs": [
    {
     "data": {
      "text/plain": [
       "array(['42', 'hello'], \n",
       "      dtype='<U21')"
      ]
     },
     "execution_count": 34,
     "metadata": {},
     "output_type": "execute_result"
    }
   ],
   "source": [
    "#lists\n",
    "make_array(42, 'hello')"
   ]
  },
  {
   "cell_type": "code",
   "execution_count": 35,
   "metadata": {
    "collapsed": false
   },
   "outputs": [
    {
     "data": {
      "text/plain": [
       "'42'"
      ]
     },
     "execution_count": 35,
     "metadata": {},
     "output_type": "execute_result"
    }
   ],
   "source": [
    "make_array(42, 'hello').item(0)"
   ]
  },
  {
   "cell_type": "code",
   "execution_count": 36,
   "metadata": {
    "collapsed": false
   },
   "outputs": [
    {
     "ename": "TypeError",
     "evalue": "unsupported operand type(s) for +: 'int' and 'str'",
     "output_type": "error",
     "traceback": [
      "\u001b[0;31m---------------------------------------------------------------------------\u001b[0m",
      "\u001b[0;31mTypeError\u001b[0m                                 Traceback (most recent call last)",
      "\u001b[0;32m<ipython-input-36-abbf1b087481>\u001b[0m in \u001b[0;36m<module>\u001b[0;34m()\u001b[0m\n\u001b[1;32m      1\u001b[0m \u001b[0;31m#intentional error message\u001b[0m\u001b[0;34m\u001b[0m\u001b[0;34m\u001b[0m\u001b[0m\n\u001b[0;32m----> 2\u001b[0;31m \u001b[0;36m0\u001b[0m \u001b[0;34m+\u001b[0m \u001b[0mmake_array\u001b[0m\u001b[0;34m(\u001b[0m\u001b[0;36m42\u001b[0m\u001b[0;34m,\u001b[0m \u001b[0;34m'hello'\u001b[0m\u001b[0;34m)\u001b[0m\u001b[0;34m.\u001b[0m\u001b[0mitem\u001b[0m\u001b[0;34m(\u001b[0m\u001b[0;36m0\u001b[0m\u001b[0;34m)\u001b[0m\u001b[0;34m\u001b[0m\u001b[0m\n\u001b[0m",
      "\u001b[0;31mTypeError\u001b[0m: unsupported operand type(s) for +: 'int' and 'str'"
     ]
    }
   ],
   "source": [
    "#intentional error message\n",
    "0 + make_array(42, 'hello').item(0)\n"
   ]
  },
  {
   "cell_type": "code",
   "execution_count": 37,
   "metadata": {
    "collapsed": false
   },
   "outputs": [
    {
     "data": {
      "text/plain": [
       "[42, 'hello']"
      ]
     },
     "execution_count": 37,
     "metadata": {},
     "output_type": "execute_result"
    }
   ],
   "source": [
    "[42, 'hello']"
   ]
  },
  {
   "cell_type": "code",
   "execution_count": 38,
   "metadata": {
    "collapsed": false
   },
   "outputs": [
    {
     "data": {
      "text/plain": [
       "42"
      ]
     },
     "execution_count": 38,
     "metadata": {},
     "output_type": "execute_result"
    }
   ],
   "source": [
    "lst = [42, 'hello']\n",
    "lst[0]"
   ]
  },
  {
   "cell_type": "code",
   "execution_count": 39,
   "metadata": {
    "collapsed": false
   },
   "outputs": [
    {
     "data": {
      "text/plain": [
       "42"
      ]
     },
     "execution_count": 39,
     "metadata": {},
     "output_type": "execute_result"
    }
   ],
   "source": [
    "0 + [42, 'hello'][0]\n"
   ]
  },
  {
   "cell_type": "code",
   "execution_count": 40,
   "metadata": {
    "collapsed": false
   },
   "outputs": [
    {
     "data": {
      "text/html": [
       "<table border=\"1\" class=\"dataframe\">\n",
       "    <thead>\n",
       "        <tr>\n",
       "            <th>Longitude</th> <th>Latitude</th> <th>City</th> <th>Direction</th> <th>Survivors</th>\n",
       "        </tr>\n",
       "    </thead>\n",
       "    <tbody>\n",
       "        <tr>\n",
       "            <td>32       </td> <td>54.8    </td> <td>Smolensk</td> <td>Advance  </td> <td>145000   </td>\n",
       "        </tr>\n",
       "        <tr>\n",
       "            <td>34.4     </td> <td>55.5    </td> <td>Chjat   </td> <td>Advance  </td> <td>127100   </td>\n",
       "        </tr>\n",
       "        <tr>\n",
       "            <td>37.6     </td> <td>55.8    </td> <td>Moscou  </td> <td>Advance  </td> <td>100000   </td>\n",
       "        </tr>\n",
       "    </tbody>\n",
       "</table>"
      ],
      "text/plain": [
       "Longitude | Latitude | City     | Direction | Survivors\n",
       "32        | 54.8     | Smolensk | Advance   | 145000\n",
       "34.4      | 55.5     | Chjat    | Advance   | 127100\n",
       "37.6      | 55.8     | Moscou   | Advance   | 100000"
      ]
     },
     "execution_count": 40,
     "metadata": {},
     "output_type": "execute_result"
    }
   ],
   "source": [
    "minard.take([0,2,3])"
   ]
  },
  {
   "cell_type": "code",
   "execution_count": 41,
   "metadata": {
    "collapsed": false
   },
   "outputs": [
    {
     "data": {
      "text/html": [
       "<table border=\"1\" class=\"dataframe\">\n",
       "    <thead>\n",
       "        <tr>\n",
       "            <th>Even</th> <th>Odd</th>\n",
       "        </tr>\n",
       "    </thead>\n",
       "    <tbody>\n",
       "    </tbody>\n",
       "</table>"
      ],
      "text/plain": [
       "Even | Odd"
      ]
     },
     "execution_count": 41,
     "metadata": {},
     "output_type": "execute_result"
    }
   ],
   "source": [
    "#lets talk about rows now\n",
    "Table(['Even', 'Odd'])"
   ]
  },
  {
   "cell_type": "code",
   "execution_count": 42,
   "metadata": {
    "collapsed": false
   },
   "outputs": [
    {
     "data": {
      "text/html": [
       "<table border=\"1\" class=\"dataframe\">\n",
       "    <thead>\n",
       "        <tr>\n",
       "            <th>Even</th> <th>Odd</th>\n",
       "        </tr>\n",
       "    </thead>\n",
       "    <tbody>\n",
       "        <tr>\n",
       "            <td>2   </td> <td>3   </td>\n",
       "        </tr>\n",
       "    </tbody>\n",
       "</table>"
      ],
      "text/plain": [
       "Even | Odd\n",
       "2    | 3"
      ]
     },
     "execution_count": 42,
     "metadata": {},
     "output_type": "execute_result"
    }
   ],
   "source": [
    "Table(['Even', 'Odd']).with_row([2, 3])"
   ]
  },
  {
   "cell_type": "code",
   "execution_count": 43,
   "metadata": {
    "collapsed": false
   },
   "outputs": [
    {
     "data": {
      "text/html": [
       "<table border=\"1\" class=\"dataframe\">\n",
       "    <thead>\n",
       "        <tr>\n",
       "            <th>Even</th> <th>Odd</th>\n",
       "        </tr>\n",
       "    </thead>\n",
       "    <tbody>\n",
       "        <tr>\n",
       "            <td>2   </td> <td>3   </td>\n",
       "        </tr>\n",
       "        <tr>\n",
       "            <td>4   </td> <td>5   </td>\n",
       "        </tr>\n",
       "    </tbody>\n",
       "</table>"
      ],
      "text/plain": [
       "Even | Odd\n",
       "2    | 3\n",
       "4    | 5"
      ]
     },
     "execution_count": 43,
     "metadata": {},
     "output_type": "execute_result"
    }
   ],
   "source": [
    "t = Table(['Even', 'Odd']).with_row([2, 3]).with_row([4, 5])\n",
    "t"
   ]
  },
  {
   "cell_type": "code",
   "execution_count": 44,
   "metadata": {
    "collapsed": true
   },
   "outputs": [],
   "source": [
    "t = t.with_row([6, 7])"
   ]
  },
  {
   "cell_type": "code",
   "execution_count": 45,
   "metadata": {
    "collapsed": false
   },
   "outputs": [
    {
     "data": {
      "text/html": [
       "<table border=\"1\" class=\"dataframe\">\n",
       "    <thead>\n",
       "        <tr>\n",
       "            <th>Even</th> <th>Odd</th>\n",
       "        </tr>\n",
       "    </thead>\n",
       "    <tbody>\n",
       "        <tr>\n",
       "            <td>2   </td> <td>3   </td>\n",
       "        </tr>\n",
       "        <tr>\n",
       "            <td>4   </td> <td>5   </td>\n",
       "        </tr>\n",
       "        <tr>\n",
       "            <td>6   </td> <td>7   </td>\n",
       "        </tr>\n",
       "    </tbody>\n",
       "</table>"
      ],
      "text/plain": [
       "Even | Odd\n",
       "2    | 3\n",
       "4    | 5\n",
       "6    | 7"
      ]
     },
     "execution_count": 45,
     "metadata": {},
     "output_type": "execute_result"
    }
   ],
   "source": [
    "t"
   ]
  },
  {
   "cell_type": "code",
   "execution_count": 46,
   "metadata": {
    "collapsed": false
   },
   "outputs": [
    {
     "data": {
      "text/html": [
       "<table border=\"1\" class=\"dataframe\">\n",
       "    <thead>\n",
       "        <tr>\n",
       "            <th>Even</th> <th>Odd</th>\n",
       "        </tr>\n",
       "    </thead>\n",
       "    <tbody>\n",
       "        <tr>\n",
       "            <td>2   </td> <td>3   </td>\n",
       "        </tr>\n",
       "        <tr>\n",
       "            <td>4   </td> <td>5   </td>\n",
       "        </tr>\n",
       "        <tr>\n",
       "            <td>6   </td> <td>7   </td>\n",
       "        </tr>\n",
       "        <tr>\n",
       "            <td>4   </td> <td>7   </td>\n",
       "        </tr>\n",
       "    </tbody>\n",
       "</table>"
      ],
      "text/plain": [
       "Even | Odd\n",
       "2    | 3\n",
       "4    | 5\n",
       "6    | 7\n",
       "4    | 7"
      ]
     },
     "execution_count": 46,
     "metadata": {},
     "output_type": "execute_result"
    }
   ],
   "source": [
    "t = t.with_row([4, 7])\n",
    "t"
   ]
  },
  {
   "cell_type": "code",
   "execution_count": 47,
   "metadata": {
    "collapsed": false
   },
   "outputs": [
    {
     "data": {
      "text/html": [
       "<table border=\"1\" class=\"dataframe\">\n",
       "    <thead>\n",
       "        <tr>\n",
       "            <th>Even</th> <th>Odd</th>\n",
       "        </tr>\n",
       "    </thead>\n",
       "    <tbody>\n",
       "        <tr>\n",
       "            <td>4   </td> <td>5   </td>\n",
       "        </tr>\n",
       "        <tr>\n",
       "            <td>4   </td> <td>7   </td>\n",
       "        </tr>\n",
       "    </tbody>\n",
       "</table>"
      ],
      "text/plain": [
       "Even | Odd\n",
       "4    | 5\n",
       "4    | 7"
      ]
     },
     "execution_count": 47,
     "metadata": {},
     "output_type": "execute_result"
    }
   ],
   "source": [
    "t.where('Even', 4)"
   ]
  },
  {
   "cell_type": "code",
   "execution_count": 48,
   "metadata": {
    "collapsed": false
   },
   "outputs": [
    {
     "data": {
      "text/html": [
       "<table border=\"1\" class=\"dataframe\">\n",
       "    <thead>\n",
       "        <tr>\n",
       "            <th>Even</th> <th>Odd</th>\n",
       "        </tr>\n",
       "    </thead>\n",
       "    <tbody>\n",
       "        <tr>\n",
       "            <td>4   </td> <td>5   </td>\n",
       "        </tr>\n",
       "        <tr>\n",
       "            <td>4   </td> <td>7   </td>\n",
       "        </tr>\n",
       "    </tbody>\n",
       "</table>"
      ],
      "text/plain": [
       "Even | Odd\n",
       "4    | 5\n",
       "4    | 7"
      ]
     },
     "execution_count": 48,
     "metadata": {},
     "output_type": "execute_result"
    }
   ],
   "source": [
    "t.where(0, 4)"
   ]
  },
  {
   "cell_type": "code",
   "execution_count": 49,
   "metadata": {
    "collapsed": false
   },
   "outputs": [
    {
     "data": {
      "text/html": [
       "<table border=\"1\" class=\"dataframe\">\n",
       "    <thead>\n",
       "        <tr>\n",
       "            <th>Even</th> <th>Odd</th>\n",
       "        </tr>\n",
       "    </thead>\n",
       "    <tbody>\n",
       "        <tr>\n",
       "            <td>2   </td> <td>3   </td>\n",
       "        </tr>\n",
       "        <tr>\n",
       "            <td>4   </td> <td>5   </td>\n",
       "        </tr>\n",
       "    </tbody>\n",
       "</table>"
      ],
      "text/plain": [
       "Even | Odd\n",
       "2    | 3\n",
       "4    | 5"
      ]
     },
     "execution_count": 49,
     "metadata": {},
     "output_type": "execute_result"
    }
   ],
   "source": [
    "t.where(1, are.not_above(5))"
   ]
  },
  {
   "cell_type": "code",
   "execution_count": 50,
   "metadata": {
    "collapsed": false
   },
   "outputs": [
    {
     "data": {
      "text/html": [
       "<table border=\"1\" class=\"dataframe\">\n",
       "    <thead>\n",
       "        <tr>\n",
       "            <th>Even</th> <th>Odd</th>\n",
       "        </tr>\n",
       "    </thead>\n",
       "    <tbody>\n",
       "        <tr>\n",
       "            <td>2   </td> <td>3   </td>\n",
       "        </tr>\n",
       "        <tr>\n",
       "            <td>4   </td> <td>5   </td>\n",
       "        </tr>\n",
       "        <tr>\n",
       "            <td>6   </td> <td>7   </td>\n",
       "        </tr>\n",
       "        <tr>\n",
       "            <td>4   </td> <td>7   </td>\n",
       "        </tr>\n",
       "    </tbody>\n",
       "</table>"
      ],
      "text/plain": [
       "Even | Odd\n",
       "2    | 3\n",
       "4    | 5\n",
       "6    | 7\n",
       "4    | 7"
      ]
     },
     "execution_count": 50,
     "metadata": {},
     "output_type": "execute_result"
    }
   ],
   "source": [
    "t"
   ]
  },
  {
   "cell_type": "code",
   "execution_count": 51,
   "metadata": {
    "collapsed": false
   },
   "outputs": [
    {
     "name": "stdout",
     "output_type": "stream",
     "text": [
      "Help on class are in module datascience.predicates:\n",
      "\n",
      "class are(builtins.object)\n",
      " |  Predicate functions. The class is named \"are\" for calls to where.\n",
      " |  \n",
      " |  For example, given a table, predicates can be used to pick rows as follows.\n",
      " |  \n",
      " |  >>> from datascience import Table\n",
      " |  >>> t = Table().with_columns([\n",
      " |  ...    'Sizes', ['S', 'M', 'L', 'XL'],\n",
      " |  ...    'Waists', [30, 34, 38, 42],\n",
      " |  ... ])\n",
      " |  >>> t.where('Sizes',  are.equal_to('L'))\n",
      " |  Sizes | Waists\n",
      " |  L     | 38\n",
      " |  >>> t.where('Waists', are.above(38))\n",
      " |  Sizes | Waists\n",
      " |  XL    | 42\n",
      " |  >>> t.where('Waists', are.above_or_equal_to(38))\n",
      " |  Sizes | Waists\n",
      " |  L     | 38\n",
      " |  XL    | 42\n",
      " |  >>> t.where('Waists', are.below(38))\n",
      " |  Sizes | Waists\n",
      " |  S     | 30\n",
      " |  M     | 34\n",
      " |  >>> t.where('Waists', are.below_or_equal_to(38))\n",
      " |  Sizes | Waists\n",
      " |  S     | 30\n",
      " |  M     | 34\n",
      " |  L     | 38\n",
      " |  >>> t.where('Waists', are.strictly_between(30, 38))\n",
      " |  Sizes | Waists\n",
      " |  M     | 34\n",
      " |  >>> t.where('Waists', are.between(30, 38))\n",
      " |  Sizes | Waists\n",
      " |  S     | 30\n",
      " |  M     | 34\n",
      " |  >>> t.where('Waists', are.between_or_equal_to(30, 38))\n",
      " |  Sizes | Waists\n",
      " |  S     | 30\n",
      " |  M     | 34\n",
      " |  L     | 38\n",
      " |  >>> t.where('Sizes',  are.equal_to('L'))\n",
      " |  Sizes | Waists\n",
      " |  L     | 38\n",
      " |  >>> t.where('Waists', are.not_above(38))\n",
      " |  Sizes | Waists\n",
      " |  S     | 30\n",
      " |  M     | 34\n",
      " |  L     | 38\n",
      " |  >>> t.where('Waists', are.not_above_or_equal_to(38))\n",
      " |  Sizes | Waists\n",
      " |  S     | 30\n",
      " |  M     | 34\n",
      " |  >>> t.where('Waists', are.not_below(38))\n",
      " |  Sizes | Waists\n",
      " |  L     | 38\n",
      " |  XL    | 42\n",
      " |  >>> t.where('Waists', are.not_below_or_equal_to(38))\n",
      " |  Sizes | Waists\n",
      " |  XL    | 42\n",
      " |  >>> t.where('Waists', are.not_strictly_between(30, 38))\n",
      " |  Sizes | Waists\n",
      " |  S     | 30\n",
      " |  L     | 38\n",
      " |  XL    | 42\n",
      " |  >>> t.where('Waists', are.not_between(30, 38))\n",
      " |  Sizes | Waists\n",
      " |  L     | 38\n",
      " |  XL    | 42\n",
      " |  >>> t.where('Waists', are.not_between_or_equal_to(30, 38))\n",
      " |  Sizes | Waists\n",
      " |  XL    | 42\n",
      " |  >>> t.where('Sizes', are.containing('L'))\n",
      " |  Sizes | Waists\n",
      " |  L     | 38\n",
      " |  XL    | 42\n",
      " |  >>> t.where('Sizes', are.not_containing('L'))\n",
      " |  Sizes | Waists\n",
      " |  S     | 30\n",
      " |  M     | 34\n",
      " |  >>> t.where('Sizes', are.contained_in('MXL'))\n",
      " |  Sizes | Waists\n",
      " |  M     | 34\n",
      " |  L     | 38\n",
      " |  XL    | 42\n",
      " |  >>> t.where('Sizes', are.contained_in('L'))\n",
      " |  Sizes | Waists\n",
      " |  L     | 38\n",
      " |  >>> t.where('Sizes', are.not_contained_in('MXL'))\n",
      " |  Sizes | Waists\n",
      " |  S     | 30\n",
      " |  \n",
      " |  Static methods defined here:\n",
      " |  \n",
      " |  above(y)\n",
      " |      Greater than y.\n",
      " |  \n",
      " |  above_or_equal_to(y)\n",
      " |      Greater than or equal to y.\n",
      " |  \n",
      " |  below(y)\n",
      " |      Less than y.\n",
      " |  \n",
      " |  below_or_equal_to(y)\n",
      " |      Less than or equal to y.\n",
      " |  \n",
      " |  between(y, z)\n",
      " |      Greater than or equal to y and less than z.\n",
      " |  \n",
      " |  between_or_equal_to(y, z)\n",
      " |      Greater than or equal to y and less than or equal to z.\n",
      " |  \n",
      " |  contained_in(superstring)\n",
      " |      A string that is part of the given superstring.\n",
      " |  \n",
      " |  containing(substring)\n",
      " |      A string that contains within it the given substring.\n",
      " |  \n",
      " |  equal_to(y)\n",
      " |      Equal to y.\n",
      " |  \n",
      " |  not_above(y)\n",
      " |      Is not above y\n",
      " |  \n",
      " |  not_above_or_equal_to(y)\n",
      " |      Is neither above y nor equal to y\n",
      " |  \n",
      " |  not_below(y)\n",
      " |      Is not below y\n",
      " |  \n",
      " |  not_below_or_equal_to(y)\n",
      " |      Is neither below y nor equal to y\n",
      " |  \n",
      " |  not_between(y, z)\n",
      " |      Is equal to y or less than y or greater than z\n",
      " |  \n",
      " |  not_between_or_equal_to(y, z)\n",
      " |      Is less than y or greater than z\n",
      " |  \n",
      " |  not_contained_in(superstring)\n",
      " |      A string that is not contained within the superstring\n",
      " |  \n",
      " |  not_containing(substring)\n",
      " |      A string that does not contain substring\n",
      " |  \n",
      " |  not_equal_to(y)\n",
      " |      Is not equal to y\n",
      " |  \n",
      " |  not_strictly_between(y, z)\n",
      " |      Is equal to y or equal to z or less than y or greater than z\n",
      " |  \n",
      " |  strictly_between(y, z)\n",
      " |      Greater than y and less than z.\n",
      " |  \n",
      " |  ----------------------------------------------------------------------\n",
      " |  Data descriptors defined here:\n",
      " |  \n",
      " |  __dict__\n",
      " |      dictionary for instance variables (if defined)\n",
      " |  \n",
      " |  __weakref__\n",
      " |      list of weak references to the object (if defined)\n",
      "\n"
     ]
    }
   ],
   "source": [
    "help(are)"
   ]
  },
  {
   "cell_type": "code",
   "execution_count": 57,
   "metadata": {
    "collapsed": false
   },
   "outputs": [
    {
     "data": {
      "text/html": [
       "<table border=\"1\" class=\"dataframe\">\n",
       "    <thead>\n",
       "        <tr>\n",
       "            <th>RANK</th> <th>PLAYER</th> <th>POSITION</th> <th>TEAM</th> <th>SALARY ($M)</th>\n",
       "        </tr>\n",
       "    </thead>\n",
       "    <tbody>\n",
       "        <tr>\n",
       "            <td>1   </td> <td>Kobe Bryant      </td> <td>SF      </td> <td>Los Angeles Lakers   </td> <td>25         </td>\n",
       "        </tr>\n",
       "        <tr>\n",
       "            <td>2   </td> <td>Joe Johnson      </td> <td>SF      </td> <td>Brooklyn Nets        </td> <td>24.8949    </td>\n",
       "        </tr>\n",
       "        <tr>\n",
       "            <td>3   </td> <td>LeBron James     </td> <td>SF      </td> <td>Cleveland Cavaliers  </td> <td>22.9705    </td>\n",
       "        </tr>\n",
       "        <tr>\n",
       "            <td>4   </td> <td>Carmelo Anthony  </td> <td>SF      </td> <td>New York Knicks      </td> <td>22.875     </td>\n",
       "        </tr>\n",
       "        <tr>\n",
       "            <td>5   </td> <td>Dwight Howard    </td> <td>C       </td> <td>Houston Rockets      </td> <td>22.3594    </td>\n",
       "        </tr>\n",
       "        <tr>\n",
       "            <td>6   </td> <td>Chris Bosh       </td> <td>PF      </td> <td>Miami Heat           </td> <td>22.1927    </td>\n",
       "        </tr>\n",
       "        <tr>\n",
       "            <td>7   </td> <td>Chris Paul       </td> <td>PG      </td> <td>Los Angeles Clippers </td> <td>21.4687    </td>\n",
       "        </tr>\n",
       "        <tr>\n",
       "            <td>8   </td> <td>Kevin Durant     </td> <td>SF      </td> <td>Oklahoma City Thunder</td> <td>20.1586    </td>\n",
       "        </tr>\n",
       "        <tr>\n",
       "            <td>9   </td> <td>Derrick Rose     </td> <td>PG      </td> <td>Chicago Bulls        </td> <td>20.0931    </td>\n",
       "        </tr>\n",
       "        <tr>\n",
       "            <td>10  </td> <td>Dwyane Wade      </td> <td>SG      </td> <td>Miami Heat           </td> <td>20         </td>\n",
       "        </tr>\n",
       "        <tr>\n",
       "            <td>11  </td> <td>LaMarcus Aldridge</td> <td>PF      </td> <td>San Antonio Spurs    </td> <td>19.689     </td>\n",
       "        </tr>\n",
       "        <tr>\n",
       "            <td>12  </td> <td>Kevin Love       </td> <td>PF      </td> <td>Cleveland Cavaliers  </td> <td>19.689     </td>\n",
       "        </tr>\n",
       "        <tr>\n",
       "            <td>13  </td> <td>Marc Gasol       </td> <td>C       </td> <td>Memphis Grizzlies    </td> <td>19.688     </td>\n",
       "        </tr>\n",
       "        <tr>\n",
       "            <td>14  </td> <td>Blake Griffin    </td> <td>PF      </td> <td>Los Angeles Clippers </td> <td>18.9077    </td>\n",
       "        </tr>\n",
       "        <tr>\n",
       "            <td>15  </td> <td>Paul Millsap     </td> <td>PF      </td> <td>Atlanta Hawks        </td> <td>18.6717    </td>\n",
       "        </tr>\n",
       "        <tr>\n",
       "            <td>16  </td> <td>Paul George      </td> <td>SF      </td> <td>Indiana Pacers       </td> <td>17.1201    </td>\n",
       "        </tr>\n",
       "        <tr>\n",
       "            <td>17  </td> <td>Russell Westbrook</td> <td>PG      </td> <td>Oklahoma City Thunder</td> <td>16.7442    </td>\n",
       "        </tr>\n",
       "        <tr>\n",
       "            <td>18  </td> <td>Kyrie Irving     </td> <td>PG      </td> <td>Cleveland Cavaliers  </td> <td>16.4075    </td>\n",
       "        </tr>\n",
       "        <tr>\n",
       "            <td>19  </td> <td>Kawhi Leonard    </td> <td>SF      </td> <td>San Antonio Spurs    </td> <td>16.4075    </td>\n",
       "        </tr>\n",
       "        <tr>\n",
       "            <td>20  </td> <td>Enes Kanter      </td> <td>C       </td> <td>Oklahoma City Thunder</td> <td>16.4075    </td>\n",
       "        </tr>\n",
       "    </tbody>\n",
       "</table>\n",
       "<p>... (397 rows omitted)</p>"
      ],
      "text/plain": [
       "<IPython.core.display.HTML object>"
      ]
     },
     "metadata": {},
     "output_type": "display_data"
    }
   ],
   "source": [
    "nba = Table.read_table('nba_salaries.csv')\n",
    "nba.show(20)"
   ]
  },
  {
   "cell_type": "code",
   "execution_count": 58,
   "metadata": {
    "collapsed": false
   },
   "outputs": [
    {
     "data": {
      "text/html": [
       "<table border=\"1\" class=\"dataframe\">\n",
       "    <thead>\n",
       "        <tr>\n",
       "            <th>NAME</th> <th>PLAYER</th> <th>SALARY</th> <th>SALARY ($M)</th>\n",
       "        </tr>\n",
       "    </thead>\n",
       "    <tbody>\n",
       "        <tr>\n",
       "            <td>1   </td> <td>Kobe Bryant    </td> <td>SF    </td> <td>25         </td>\n",
       "        </tr>\n",
       "        <tr>\n",
       "            <td>2   </td> <td>Joe Johnson    </td> <td>SF    </td> <td>24.8949    </td>\n",
       "        </tr>\n",
       "        <tr>\n",
       "            <td>3   </td> <td>LeBron James   </td> <td>SF    </td> <td>22.9705    </td>\n",
       "        </tr>\n",
       "        <tr>\n",
       "            <td>4   </td> <td>Carmelo Anthony</td> <td>SF    </td> <td>22.875     </td>\n",
       "        </tr>\n",
       "        <tr>\n",
       "            <td>5   </td> <td>Dwight Howard  </td> <td>C     </td> <td>22.3594    </td>\n",
       "        </tr>\n",
       "        <tr>\n",
       "            <td>6   </td> <td>Chris Bosh     </td> <td>PF    </td> <td>22.1927    </td>\n",
       "        </tr>\n",
       "        <tr>\n",
       "            <td>7   </td> <td>Chris Paul     </td> <td>PG    </td> <td>21.4687    </td>\n",
       "        </tr>\n",
       "        <tr>\n",
       "            <td>8   </td> <td>Kevin Durant   </td> <td>SF    </td> <td>20.1586    </td>\n",
       "        </tr>\n",
       "        <tr>\n",
       "            <td>9   </td> <td>Derrick Rose   </td> <td>PG    </td> <td>20.0931    </td>\n",
       "        </tr>\n",
       "        <tr>\n",
       "            <td>10  </td> <td>Dwyane Wade    </td> <td>SG    </td> <td>20         </td>\n",
       "        </tr>\n",
       "    </tbody>\n",
       "</table>\n",
       "<p>... (407 rows omitted)</p>"
      ],
      "text/plain": [
       "NAME | PLAYER          | SALARY | SALARY ($M)\n",
       "1    | Kobe Bryant     | SF     | 25\n",
       "2    | Joe Johnson     | SF     | 24.8949\n",
       "3    | LeBron James    | SF     | 22.9705\n",
       "4    | Carmelo Anthony | SF     | 22.875\n",
       "5    | Dwight Howard   | C      | 22.3594\n",
       "6    | Chris Bosh      | PF     | 22.1927\n",
       "7    | Chris Paul      | PG     | 21.4687\n",
       "8    | Kevin Durant    | SF     | 20.1586\n",
       "9    | Derrick Rose    | PG     | 20.0931\n",
       "10   | Dwyane Wade     | SG     | 20\n",
       "... (407 rows omitted)"
      ]
     },
     "execution_count": 58,
     "metadata": {},
     "output_type": "execute_result"
    }
   ],
   "source": [
    "nba = nba.drop('TEAM').relabeled(0, 'NAME').relabeled(2, 'SALARY')\n",
    "nba"
   ]
  },
  {
   "cell_type": "code",
   "execution_count": 61,
   "metadata": {
    "collapsed": false
   },
   "outputs": [
    {
     "data": {
      "text/plain": [
       "array([ 7,  9, 17, 18, 23])"
      ]
     },
     "execution_count": 61,
     "metadata": {},
     "output_type": "execute_result"
    }
   ],
   "source": [
    "nba.where(\"SALARY\", \"PG\").where(\"SALARY ($M)\", are.above(15)).column(0)"
   ]
  },
  {
   "cell_type": "code",
   "execution_count": 62,
   "metadata": {
    "collapsed": false
   },
   "outputs": [
    {
     "data": {
      "text/html": [
       "<table border=\"1\" class=\"dataframe\">\n",
       "    <thead>\n",
       "        <tr>\n",
       "            <th>SEX</th> <th>AGE</th> <th>CENSUS2010POP</th> <th>ESTIMATESBASE2010</th> <th>POPESTIMATE2010</th> <th>POPESTIMATE2011</th> <th>POPESTIMATE2012</th> <th>POPESTIMATE2013</th> <th>POPESTIMATE2014</th>\n",
       "        </tr>\n",
       "    </thead>\n",
       "    <tbody>\n",
       "        <tr>\n",
       "            <td>0   </td> <td>0   </td> <td>3944153      </td> <td>3944160          </td> <td>3951330        </td> <td>3963071        </td> <td>3926665        </td> <td>3945610        </td> <td>3948350        </td>\n",
       "        </tr>\n",
       "        <tr>\n",
       "            <td>0   </td> <td>1   </td> <td>3978070      </td> <td>3978090          </td> <td>3957888        </td> <td>3966510        </td> <td>3978006        </td> <td>3943077        </td> <td>3962123        </td>\n",
       "        </tr>\n",
       "        <tr>\n",
       "            <td>0   </td> <td>2   </td> <td>4096929      </td> <td>4096939          </td> <td>4090862        </td> <td>3971573        </td> <td>3979952        </td> <td>3992690        </td> <td>3957772        </td>\n",
       "        </tr>\n",
       "        <tr>\n",
       "            <td>0   </td> <td>3   </td> <td>4119040      </td> <td>4119051          </td> <td>4111920        </td> <td>4102501        </td> <td>3983049        </td> <td>3992425        </td> <td>4005190        </td>\n",
       "        </tr>\n",
       "        <tr>\n",
       "            <td>0   </td> <td>4   </td> <td>4063170      </td> <td>4063186          </td> <td>4077552        </td> <td>4122303        </td> <td>4112638        </td> <td>3994047        </td> <td>4003448        </td>\n",
       "        </tr>\n",
       "        <tr>\n",
       "            <td>0   </td> <td>5   </td> <td>4056858      </td> <td>4056872          </td> <td>4064653        </td> <td>4087713        </td> <td>4132210        </td> <td>4123408        </td> <td>4004858        </td>\n",
       "        </tr>\n",
       "        <tr>\n",
       "            <td>0   </td> <td>6   </td> <td>4066381      </td> <td>4066412          </td> <td>4073013        </td> <td>4074979        </td> <td>4097780        </td> <td>4143094        </td> <td>4134352        </td>\n",
       "        </tr>\n",
       "        <tr>\n",
       "            <td>0   </td> <td>7   </td> <td>4030579      </td> <td>4030594          </td> <td>4043047        </td> <td>4083240        </td> <td>4084964        </td> <td>4108615        </td> <td>4154000        </td>\n",
       "        </tr>\n",
       "        <tr>\n",
       "            <td>0   </td> <td>8   </td> <td>4046486      </td> <td>4046497          </td> <td>4025604        </td> <td>4053206        </td> <td>4093213        </td> <td>4095827        </td> <td>4119524        </td>\n",
       "        </tr>\n",
       "        <tr>\n",
       "            <td>0   </td> <td>9   </td> <td>4148353      </td> <td>4148369          </td> <td>4125415        </td> <td>4035769        </td> <td>4063193        </td> <td>4104133        </td> <td>4106832        </td>\n",
       "        </tr>\n",
       "    </tbody>\n",
       "</table>\n",
       "<p>... (296 rows omitted)</p>"
      ],
      "text/plain": [
       "SEX  | AGE  | CENSUS2010POP | ESTIMATESBASE2010 | POPESTIMATE2010 | POPESTIMATE2011 | POPESTIMATE2012 | POPESTIMATE2013 | POPESTIMATE2014\n",
       "0    | 0    | 3944153       | 3944160           | 3951330         | 3963071         | 3926665         | 3945610         | 3948350\n",
       "0    | 1    | 3978070       | 3978090           | 3957888         | 3966510         | 3978006         | 3943077         | 3962123\n",
       "0    | 2    | 4096929       | 4096939           | 4090862         | 3971573         | 3979952         | 3992690         | 3957772\n",
       "0    | 3    | 4119040       | 4119051           | 4111920         | 4102501         | 3983049         | 3992425         | 4005190\n",
       "0    | 4    | 4063170       | 4063186           | 4077552         | 4122303         | 4112638         | 3994047         | 4003448\n",
       "0    | 5    | 4056858       | 4056872           | 4064653         | 4087713         | 4132210         | 4123408         | 4004858\n",
       "0    | 6    | 4066381       | 4066412           | 4073013         | 4074979         | 4097780         | 4143094         | 4134352\n",
       "0    | 7    | 4030579       | 4030594           | 4043047         | 4083240         | 4084964         | 4108615         | 4154000\n",
       "0    | 8    | 4046486       | 4046497           | 4025604         | 4053206         | 4093213         | 4095827         | 4119524\n",
       "0    | 9    | 4148353       | 4148369           | 4125415         | 4035769         | 4063193         | 4104133         | 4106832\n",
       "... (296 rows omitted)"
      ]
     },
     "execution_count": 62,
     "metadata": {},
     "output_type": "execute_result"
    }
   ],
   "source": [
    "full = Table.read_table('NC-EST2014-AGESEX-RES.csv')\n",
    "full"
   ]
  },
  {
   "cell_type": "code",
   "execution_count": 63,
   "metadata": {
    "collapsed": false
   },
   "outputs": [
    {
     "data": {
      "text/html": [
       "<table border=\"1\" class=\"dataframe\">\n",
       "    <thead>\n",
       "        <tr>\n",
       "            <th>SEX</th> <th>AGE</th> <th>CENSUS2010POP</th> <th>ESTIMATESBASE2010</th> <th>POPESTIMATE2010</th> <th>POPESTIMATE2011</th> <th>POPESTIMATE2012</th> <th>POPESTIMATE2013</th> <th>POPESTIMATE2014</th>\n",
       "        </tr>\n",
       "    </thead>\n",
       "    <tbody>\n",
       "        <tr>\n",
       "            <td>0   </td> <td>0   </td> <td>3944153      </td> <td>3944160          </td> <td>3951330        </td> <td>3963071        </td> <td>3926665        </td> <td>3945610        </td> <td>3948350        </td>\n",
       "        </tr>\n",
       "        <tr>\n",
       "            <td>1   </td> <td>0   </td> <td>2014276      </td> <td>2014278          </td> <td>2018420        </td> <td>2028434        </td> <td>2007693        </td> <td>2015537        </td> <td>2017857        </td>\n",
       "        </tr>\n",
       "        <tr>\n",
       "            <td>2   </td> <td>0   </td> <td>1929877      </td> <td>1929882          </td> <td>1932910        </td> <td>1934637        </td> <td>1918972        </td> <td>1930073        </td> <td>1930493        </td>\n",
       "        </tr>\n",
       "    </tbody>\n",
       "</table>"
      ],
      "text/plain": [
       "SEX  | AGE  | CENSUS2010POP | ESTIMATESBASE2010 | POPESTIMATE2010 | POPESTIMATE2011 | POPESTIMATE2012 | POPESTIMATE2013 | POPESTIMATE2014\n",
       "0    | 0    | 3944153       | 3944160           | 3951330         | 3963071         | 3926665         | 3945610         | 3948350\n",
       "1    | 0    | 2014276       | 2014278           | 2018420         | 2028434         | 2007693         | 2015537         | 2017857\n",
       "2    | 0    | 1929877       | 1929882           | 1932910         | 1934637         | 1918972         | 1930073         | 1930493"
      ]
     },
     "execution_count": 63,
     "metadata": {},
     "output_type": "execute_result"
    }
   ],
   "source": [
    "full.where(1, 0)"
   ]
  },
  {
   "cell_type": "code",
   "execution_count": 64,
   "metadata": {
    "collapsed": false
   },
   "outputs": [
    {
     "data": {
      "text/html": [
       "<table border=\"1\" class=\"dataframe\">\n",
       "    <thead>\n",
       "        <tr>\n",
       "            <th>SEX</th> <th>AGE</th> <th>POPESTIMATE2010</th> <th>POPESTIMATE2014</th>\n",
       "        </tr>\n",
       "    </thead>\n",
       "    <tbody>\n",
       "        <tr>\n",
       "            <td>0   </td> <td>0   </td> <td>3951330        </td> <td>3948350        </td>\n",
       "        </tr>\n",
       "        <tr>\n",
       "            <td>0   </td> <td>1   </td> <td>3957888        </td> <td>3962123        </td>\n",
       "        </tr>\n",
       "        <tr>\n",
       "            <td>0   </td> <td>2   </td> <td>4090862        </td> <td>3957772        </td>\n",
       "        </tr>\n",
       "        <tr>\n",
       "            <td>0   </td> <td>3   </td> <td>4111920        </td> <td>4005190        </td>\n",
       "        </tr>\n",
       "        <tr>\n",
       "            <td>0   </td> <td>4   </td> <td>4077552        </td> <td>4003448        </td>\n",
       "        </tr>\n",
       "        <tr>\n",
       "            <td>0   </td> <td>5   </td> <td>4064653        </td> <td>4004858        </td>\n",
       "        </tr>\n",
       "        <tr>\n",
       "            <td>0   </td> <td>6   </td> <td>4073013        </td> <td>4134352        </td>\n",
       "        </tr>\n",
       "        <tr>\n",
       "            <td>0   </td> <td>7   </td> <td>4043047        </td> <td>4154000        </td>\n",
       "        </tr>\n",
       "        <tr>\n",
       "            <td>0   </td> <td>8   </td> <td>4025604        </td> <td>4119524        </td>\n",
       "        </tr>\n",
       "        <tr>\n",
       "            <td>0   </td> <td>9   </td> <td>4125415        </td> <td>4106832        </td>\n",
       "        </tr>\n",
       "    </tbody>\n",
       "</table>\n",
       "<p>... (296 rows omitted)</p>"
      ],
      "text/plain": [
       "SEX  | AGE  | POPESTIMATE2010 | POPESTIMATE2014\n",
       "0    | 0    | 3951330         | 3948350\n",
       "0    | 1    | 3957888         | 3962123\n",
       "0    | 2    | 4090862         | 3957772\n",
       "0    | 3    | 4111920         | 4005190\n",
       "0    | 4    | 4077552         | 4003448\n",
       "0    | 5    | 4064653         | 4004858\n",
       "0    | 6    | 4073013         | 4134352\n",
       "0    | 7    | 4043047         | 4154000\n",
       "0    | 8    | 4025604         | 4119524\n",
       "0    | 9    | 4125415         | 4106832\n",
       "... (296 rows omitted)"
      ]
     },
     "execution_count": 64,
     "metadata": {},
     "output_type": "execute_result"
    }
   ],
   "source": [
    "partial = full.select(['SEX', 'AGE', 4, 8])\n",
    "partial"
   ]
  },
  {
   "cell_type": "code",
   "execution_count": 65,
   "metadata": {
    "collapsed": false
   },
   "outputs": [
    {
     "data": {
      "text/html": [
       "<table border=\"1\" class=\"dataframe\">\n",
       "    <thead>\n",
       "        <tr>\n",
       "            <th>SEX</th> <th>AGE</th> <th>2010</th> <th>2014</th>\n",
       "        </tr>\n",
       "    </thead>\n",
       "    <tbody>\n",
       "        <tr>\n",
       "            <td>0   </td> <td>0   </td> <td>3951330</td> <td>3948350</td>\n",
       "        </tr>\n",
       "        <tr>\n",
       "            <td>0   </td> <td>1   </td> <td>3957888</td> <td>3962123</td>\n",
       "        </tr>\n",
       "        <tr>\n",
       "            <td>0   </td> <td>2   </td> <td>4090862</td> <td>3957772</td>\n",
       "        </tr>\n",
       "        <tr>\n",
       "            <td>0   </td> <td>3   </td> <td>4111920</td> <td>4005190</td>\n",
       "        </tr>\n",
       "        <tr>\n",
       "            <td>0   </td> <td>4   </td> <td>4077552</td> <td>4003448</td>\n",
       "        </tr>\n",
       "        <tr>\n",
       "            <td>0   </td> <td>5   </td> <td>4064653</td> <td>4004858</td>\n",
       "        </tr>\n",
       "        <tr>\n",
       "            <td>0   </td> <td>6   </td> <td>4073013</td> <td>4134352</td>\n",
       "        </tr>\n",
       "        <tr>\n",
       "            <td>0   </td> <td>7   </td> <td>4043047</td> <td>4154000</td>\n",
       "        </tr>\n",
       "        <tr>\n",
       "            <td>0   </td> <td>8   </td> <td>4025604</td> <td>4119524</td>\n",
       "        </tr>\n",
       "        <tr>\n",
       "            <td>0   </td> <td>9   </td> <td>4125415</td> <td>4106832</td>\n",
       "        </tr>\n",
       "    </tbody>\n",
       "</table>\n",
       "<p>... (296 rows omitted)</p>"
      ],
      "text/plain": [
       "SEX  | AGE  | 2010    | 2014\n",
       "0    | 0    | 3951330 | 3948350\n",
       "0    | 1    | 3957888 | 3962123\n",
       "0    | 2    | 4090862 | 3957772\n",
       "0    | 3    | 4111920 | 4005190\n",
       "0    | 4    | 4077552 | 4003448\n",
       "0    | 5    | 4064653 | 4004858\n",
       "0    | 6    | 4073013 | 4134352\n",
       "0    | 7    | 4043047 | 4154000\n",
       "0    | 8    | 4025604 | 4119524\n",
       "0    | 9    | 4125415 | 4106832\n",
       "... (296 rows omitted)"
      ]
     },
     "execution_count": 65,
     "metadata": {},
     "output_type": "execute_result"
    }
   ],
   "source": [
    "simple = partial.relabeled('POPESTIMATE2010', '2010').relabeled(3, '2014')\n",
    "simple"
   ]
  },
  {
   "cell_type": "code",
   "execution_count": 66,
   "metadata": {
    "collapsed": false
   },
   "outputs": [
    {
     "data": {
      "text/plain": [
       "array([  0,   1,   2,   3,   4,   5,   6,   7,   8,   9,  10,  11,  12,\n",
       "        13,  14,  15,  16,  17,  18,  19,  20,  21,  22,  23,  24,  25,\n",
       "        26,  27,  28,  29,  30,  31,  32,  33,  34,  35,  36,  37,  38,\n",
       "        39,  40,  41,  42,  43,  44,  45,  46,  47,  48,  49,  50,  51,\n",
       "        52,  53,  54,  55,  56,  57,  58,  59,  60,  61,  62,  63,  64,\n",
       "        65,  66,  67,  68,  69,  70,  71,  72,  73,  74,  75,  76,  77,\n",
       "        78,  79,  80,  81,  82,  83,  84,  85,  86,  87,  88,  89,  90,\n",
       "        91,  92,  93,  94,  95,  96,  97,  98,  99, 100, 999,   0,   1,\n",
       "         2,   3,   4,   5,   6,   7,   8,   9,  10,  11,  12,  13,  14,\n",
       "        15,  16,  17,  18,  19,  20,  21,  22,  23,  24,  25,  26,  27,\n",
       "        28,  29,  30,  31,  32,  33,  34,  35,  36,  37,  38,  39,  40,\n",
       "        41,  42,  43,  44,  45,  46,  47,  48,  49,  50,  51,  52,  53,\n",
       "        54,  55,  56,  57,  58,  59,  60,  61,  62,  63,  64,  65,  66,\n",
       "        67,  68,  69,  70,  71,  72,  73,  74,  75,  76,  77,  78,  79,\n",
       "        80,  81,  82,  83,  84,  85,  86,  87,  88,  89,  90,  91,  92,\n",
       "        93,  94,  95,  96,  97,  98,  99, 100, 999,   0,   1,   2,   3,\n",
       "         4,   5,   6,   7,   8,   9,  10,  11,  12,  13,  14,  15,  16,\n",
       "        17,  18,  19,  20,  21,  22,  23,  24,  25,  26,  27,  28,  29,\n",
       "        30,  31,  32,  33,  34,  35,  36,  37,  38,  39,  40,  41,  42,\n",
       "        43,  44,  45,  46,  47,  48,  49,  50,  51,  52,  53,  54,  55,\n",
       "        56,  57,  58,  59,  60,  61,  62,  63,  64,  65,  66,  67,  68,\n",
       "        69,  70,  71,  72,  73,  74,  75,  76,  77,  78,  79,  80,  81,\n",
       "        82,  83,  84,  85,  86,  87,  88,  89,  90,  91,  92,  93,  94,\n",
       "        95,  96,  97,  98,  99, 100, 999])"
      ]
     },
     "execution_count": 66,
     "metadata": {},
     "output_type": "execute_result"
    }
   ],
   "source": [
    "partial.column(\"AGE\")"
   ]
  },
  {
   "cell_type": "code",
   "execution_count": 67,
   "metadata": {
    "collapsed": false
   },
   "outputs": [
    {
     "data": {
      "text/html": [
       "<table border=\"1\" class=\"dataframe\">\n",
       "    <thead>\n",
       "        <tr>\n",
       "            <th>SEX</th> <th>AGE</th> <th>POPESTIMATE2010</th> <th>POPESTIMATE2014</th>\n",
       "        </tr>\n",
       "    </thead>\n",
       "    <tbody>\n",
       "        <tr>\n",
       "            <td>0   </td> <td>999 </td> <td>309347057      </td> <td>318857056      </td>\n",
       "        </tr>\n",
       "        <tr>\n",
       "            <td>1   </td> <td>999 </td> <td>152089484      </td> <td>156936487      </td>\n",
       "        </tr>\n",
       "        <tr>\n",
       "            <td>2   </td> <td>999 </td> <td>157257573      </td> <td>161920569      </td>\n",
       "        </tr>\n",
       "    </tbody>\n",
       "</table>"
      ],
      "text/plain": [
       "SEX  | AGE  | POPESTIMATE2010 | POPESTIMATE2014\n",
       "0    | 999  | 309347057       | 318857056\n",
       "1    | 999  | 152089484       | 156936487\n",
       "2    | 999  | 157257573       | 161920569"
      ]
     },
     "execution_count": 67,
     "metadata": {},
     "output_type": "execute_result"
    }
   ],
   "source": [
    "partial.where('AGE', 999)"
   ]
  },
  {
   "cell_type": "code",
   "execution_count": 68,
   "metadata": {
    "collapsed": false
   },
   "outputs": [
    {
     "data": {
      "text/html": [
       "<table border=\"1\" class=\"dataframe\">\n",
       "    <thead>\n",
       "        <tr>\n",
       "            <th>SEX</th> <th>AGE</th> <th>2010</th> <th>2014</th> <th>Change</th> <th>Growth</th>\n",
       "        </tr>\n",
       "    </thead>\n",
       "    <tbody>\n",
       "        <tr>\n",
       "            <td>0   </td> <td>0   </td> <td>3951330</td> <td>3948350</td> <td>-2980  </td> <td>-0.000188597</td>\n",
       "        </tr>\n",
       "        <tr>\n",
       "            <td>0   </td> <td>1   </td> <td>3957888</td> <td>3962123</td> <td>4235   </td> <td>0.000267397 </td>\n",
       "        </tr>\n",
       "        <tr>\n",
       "            <td>0   </td> <td>2   </td> <td>4090862</td> <td>3957772</td> <td>-133090</td> <td>-0.00823453 </td>\n",
       "        </tr>\n",
       "        <tr>\n",
       "            <td>0   </td> <td>3   </td> <td>4111920</td> <td>4005190</td> <td>-106730</td> <td>-0.0065532  </td>\n",
       "        </tr>\n",
       "        <tr>\n",
       "            <td>0   </td> <td>4   </td> <td>4077552</td> <td>4003448</td> <td>-74104 </td> <td>-0.00457471 </td>\n",
       "        </tr>\n",
       "        <tr>\n",
       "            <td>0   </td> <td>5   </td> <td>4064653</td> <td>4004858</td> <td>-59795 </td> <td>-0.00369821 </td>\n",
       "        </tr>\n",
       "        <tr>\n",
       "            <td>0   </td> <td>6   </td> <td>4073013</td> <td>4134352</td> <td>61339  </td> <td>0.00374389  </td>\n",
       "        </tr>\n",
       "        <tr>\n",
       "            <td>0   </td> <td>7   </td> <td>4043047</td> <td>4154000</td> <td>110953 </td> <td>0.00679123  </td>\n",
       "        </tr>\n",
       "        <tr>\n",
       "            <td>0   </td> <td>8   </td> <td>4025604</td> <td>4119524</td> <td>93920  </td> <td>0.00578232  </td>\n",
       "        </tr>\n",
       "        <tr>\n",
       "            <td>0   </td> <td>9   </td> <td>4125415</td> <td>4106832</td> <td>-18583 </td> <td>-0.00112804 </td>\n",
       "        </tr>\n",
       "    </tbody>\n",
       "</table>\n",
       "<p>... (296 rows omitted)</p>"
      ],
      "text/plain": [
       "SEX  | AGE  | 2010    | 2014    | Change  | Growth\n",
       "0    | 0    | 3951330 | 3948350 | -2980   | -0.000188597\n",
       "0    | 1    | 3957888 | 3962123 | 4235    | 0.000267397\n",
       "0    | 2    | 4090862 | 3957772 | -133090 | -0.00823453\n",
       "0    | 3    | 4111920 | 4005190 | -106730 | -0.0065532\n",
       "0    | 4    | 4077552 | 4003448 | -74104  | -0.00457471\n",
       "0    | 5    | 4064653 | 4004858 | -59795  | -0.00369821\n",
       "0    | 6    | 4073013 | 4134352 | 61339   | 0.00374389\n",
       "0    | 7    | 4043047 | 4154000 | 110953  | 0.00679123\n",
       "0    | 8    | 4025604 | 4119524 | 93920   | 0.00578232\n",
       "0    | 9    | 4125415 | 4106832 | -18583  | -0.00112804\n",
       "... (296 rows omitted)"
      ]
     },
     "execution_count": 68,
     "metadata": {},
     "output_type": "execute_result"
    }
   ],
   "source": [
    "census = simple.with_columns(\n",
    "        'Change', simple.column(3) - simple.column(2), \n",
    "        'Growth', (simple.column(3) / simple.column(2)) ** (1/4) - 1)\n",
    "census"
   ]
  },
  {
   "cell_type": "code",
   "execution_count": 70,
   "metadata": {
    "collapsed": false
   },
   "outputs": [
    {
     "data": {
      "text/html": [
       "<table border=\"1\" class=\"dataframe\">\n",
       "    <thead>\n",
       "        <tr>\n",
       "            <th>SEX</th> <th>AGE</th> <th>2010</th> <th>2014</th> <th>Change</th> <th>Growth</th>\n",
       "        </tr>\n",
       "    </thead>\n",
       "    <tbody>\n",
       "        <tr>\n",
       "            <td>0   </td> <td>0   </td> <td>3,951,330</td> <td>3,948,350</td> <td>-2,980  </td> <td>-0.02%</td>\n",
       "        </tr>\n",
       "        <tr>\n",
       "            <td>0   </td> <td>1   </td> <td>3,957,888</td> <td>3,962,123</td> <td>4,235   </td> <td>0.03% </td>\n",
       "        </tr>\n",
       "        <tr>\n",
       "            <td>0   </td> <td>2   </td> <td>4,090,862</td> <td>3,957,772</td> <td>-133,090</td> <td>-0.82%</td>\n",
       "        </tr>\n",
       "        <tr>\n",
       "            <td>0   </td> <td>3   </td> <td>4,111,920</td> <td>4,005,190</td> <td>-106,730</td> <td>-0.66%</td>\n",
       "        </tr>\n",
       "        <tr>\n",
       "            <td>0   </td> <td>4   </td> <td>4,077,552</td> <td>4,003,448</td> <td>-74,104 </td> <td>-0.46%</td>\n",
       "        </tr>\n",
       "        <tr>\n",
       "            <td>0   </td> <td>5   </td> <td>4,064,653</td> <td>4,004,858</td> <td>-59,795 </td> <td>-0.37%</td>\n",
       "        </tr>\n",
       "        <tr>\n",
       "            <td>0   </td> <td>6   </td> <td>4,073,013</td> <td>4,134,352</td> <td>61,339  </td> <td>0.37% </td>\n",
       "        </tr>\n",
       "        <tr>\n",
       "            <td>0   </td> <td>7   </td> <td>4,043,047</td> <td>4,154,000</td> <td>110,953 </td> <td>0.68% </td>\n",
       "        </tr>\n",
       "        <tr>\n",
       "            <td>0   </td> <td>8   </td> <td>4,025,604</td> <td>4,119,524</td> <td>93,920  </td> <td>0.58% </td>\n",
       "        </tr>\n",
       "        <tr>\n",
       "            <td>0   </td> <td>9   </td> <td>4,125,415</td> <td>4,106,832</td> <td>-18,583 </td> <td>-0.11%</td>\n",
       "        </tr>\n",
       "    </tbody>\n",
       "</table>\n",
       "<p>... (296 rows omitted)</p>"
      ],
      "text/plain": [
       "SEX  | AGE  | 2010      | 2014      | Change   | Growth\n",
       "0    | 0    | 3,951,330 | 3,948,350 | -2,980   | -0.02%\n",
       "0    | 1    | 3,957,888 | 3,962,123 | 4,235    | 0.03%\n",
       "0    | 2    | 4,090,862 | 3,957,772 | -133,090 | -0.82%\n",
       "0    | 3    | 4,111,920 | 4,005,190 | -106,730 | -0.66%\n",
       "0    | 4    | 4,077,552 | 4,003,448 | -74,104  | -0.46%\n",
       "0    | 5    | 4,064,653 | 4,004,858 | -59,795  | -0.37%\n",
       "0    | 6    | 4,073,013 | 4,134,352 | 61,339   | 0.37%\n",
       "0    | 7    | 4,043,047 | 4,154,000 | 110,953  | 0.68%\n",
       "0    | 8    | 4,025,604 | 4,119,524 | 93,920   | 0.58%\n",
       "0    | 9    | 4,125,415 | 4,106,832 | -18,583  | -0.11%\n",
       "... (296 rows omitted)"
      ]
     },
     "execution_count": 70,
     "metadata": {},
     "output_type": "execute_result"
    }
   ],
   "source": [
    "census.set_format('Growth', PercentFormatter)\n",
    "census.set_format([2, 3, 4], NumberFormatter)"
   ]
  },
  {
   "cell_type": "code",
   "execution_count": 71,
   "metadata": {
    "collapsed": true
   },
   "outputs": [],
   "source": [
    "males = census.where('SEX', 1).where('AGE', are.below(999))\n",
    "females = census.where('SEX', 2).where('AGE', are.below(999))"
   ]
  },
  {
   "cell_type": "code",
   "execution_count": 72,
   "metadata": {
    "collapsed": false
   },
   "outputs": [
    {
     "data": {
      "text/html": [
       "<table border=\"1\" class=\"dataframe\">\n",
       "    <thead>\n",
       "        <tr>\n",
       "            <th>SEX</th> <th>AGE</th> <th>2010</th> <th>2014</th> <th>Change</th> <th>Growth</th>\n",
       "        </tr>\n",
       "    </thead>\n",
       "    <tbody>\n",
       "        <tr>\n",
       "            <td>2   </td> <td>54  </td> <td>2,196,798</td> <td>2,331,961</td> <td>135,163</td> <td>1.50% </td>\n",
       "        </tr>\n",
       "        <tr>\n",
       "            <td>2   </td> <td>53  </td> <td>2,268,457</td> <td>2,316,131</td> <td>47,674 </td> <td>0.52% </td>\n",
       "        </tr>\n",
       "        <tr>\n",
       "            <td>2   </td> <td>24  </td> <td>2,082,209</td> <td>2,301,237</td> <td>219,028</td> <td>2.53% </td>\n",
       "        </tr>\n",
       "        <tr>\n",
       "            <td>2   </td> <td>23  </td> <td>2,066,126</td> <td>2,298,701</td> <td>232,575</td> <td>2.70% </td>\n",
       "        </tr>\n",
       "        <tr>\n",
       "            <td>2   </td> <td>51  </td> <td>2,289,164</td> <td>2,283,261</td> <td>-5,903 </td> <td>-0.06%</td>\n",
       "        </tr>\n",
       "    </tbody>\n",
       "</table>\n",
       "<p>... (96 rows omitted)</p>"
      ],
      "text/plain": [
       "<IPython.core.display.HTML object>"
      ]
     },
     "metadata": {},
     "output_type": "display_data"
    }
   ],
   "source": [
    "females.sort('2014', descending=True).show(5)"
   ]
  },
  {
   "cell_type": "code",
   "execution_count": 73,
   "metadata": {
    "collapsed": false
   },
   "outputs": [
    {
     "data": {
      "text/html": [
       "<table border=\"1\" class=\"dataframe\">\n",
       "    <thead>\n",
       "        <tr>\n",
       "            <th>SEX</th> <th>AGE</th> <th>2010</th> <th>2014</th> <th>Change</th> <th>Growth</th>\n",
       "        </tr>\n",
       "    </thead>\n",
       "    <tbody>\n",
       "        <tr>\n",
       "            <td>1   </td> <td>23  </td> <td>2,151,095</td> <td>2,399,883</td> <td>248,788</td> <td>2.77% </td>\n",
       "        </tr>\n",
       "        <tr>\n",
       "            <td>1   </td> <td>24  </td> <td>2,161,380</td> <td>2,391,398</td> <td>230,018</td> <td>2.56% </td>\n",
       "        </tr>\n",
       "        <tr>\n",
       "            <td>1   </td> <td>22  </td> <td>2,188,228</td> <td>2,367,842</td> <td>179,614</td> <td>1.99% </td>\n",
       "        </tr>\n",
       "        <tr>\n",
       "            <td>1   </td> <td>21  </td> <td>2,241,095</td> <td>2,310,734</td> <td>69,639 </td> <td>0.77% </td>\n",
       "        </tr>\n",
       "        <tr>\n",
       "            <td>1   </td> <td>25  </td> <td>2,177,171</td> <td>2,295,836</td> <td>118,665</td> <td>1.34% </td>\n",
       "        </tr>\n",
       "    </tbody>\n",
       "</table>\n",
       "<p>... (96 rows omitted)</p>"
      ],
      "text/plain": [
       "<IPython.core.display.HTML object>"
      ]
     },
     "metadata": {},
     "output_type": "display_data"
    }
   ],
   "source": [
    "males.sort('2014', descending=True).show(5)"
   ]
  },
  {
   "cell_type": "code",
   "execution_count": 75,
   "metadata": {
    "collapsed": false
   },
   "outputs": [
    {
     "data": {
      "image/png": "[encoded data removed]",
      "text/plain": [
       "<matplotlib.figure.Figure at 0x116ae3668>"
      ]
     },
     "metadata": {},
     "output_type": "display_data"
    }
   ],
   "source": [
    "Table().with_columns(\n",
    "    'Age in 2014', females.column('AGE'),\n",
    "    'Females', females.column('2014'),\n",
    "    'Males', males.column('2014'),\n",
    ").plot('Age in 2014')"
   ]
  },
  {
   "cell_type": "code",
   "execution_count": 76,
   "metadata": {
    "collapsed": false
   },
   "outputs": [
    {
     "data": {
      "image/png": "[encoded data removed]",
      "text/plain": [
       "<matplotlib.figure.Figure at 0x116b42780>"
      ]
     },
     "metadata": {},
     "output_type": "display_data"
    }
   ],
   "source": [
    "Table().with_columns(\n",
    "    'Age in 2014', females.column('AGE'),\n",
    "    'Ratio', females.column('2014') / males.column('2014'),\n",
    ").plot('Age in 2014')"
   ]
  },
  {
   "cell_type": "code",
   "execution_count": 77,
   "metadata": {
    "collapsed": false
   },
   "outputs": [
    {
     "data": {
      "text/html": [
       "<table border=\"1\" class=\"dataframe\">\n",
       "    <thead>\n",
       "        <tr>\n",
       "            <th>SEX</th> <th>AGE</th> <th>2010</th> <th>2014</th> <th>Change</th> <th>Growth</th>\n",
       "        </tr>\n",
       "    </thead>\n",
       "    <tbody>\n",
       "        <tr>\n",
       "            <td>2   </td> <td>64  </td> <td>1,414,220</td> <td>1,826,662</td> <td>412,442</td> <td>6.61% </td>\n",
       "        </tr>\n",
       "        <tr>\n",
       "            <td>2   </td> <td>65  </td> <td>1,405,839</td> <td>1,776,761</td> <td>370,922</td> <td>6.03% </td>\n",
       "        </tr>\n",
       "        <tr>\n",
       "            <td>2   </td> <td>66  </td> <td>1,381,541</td> <td>1,758,649</td> <td>377,108</td> <td>6.22% </td>\n",
       "        </tr>\n",
       "        <tr>\n",
       "            <td>2   </td> <td>67  </td> <td>1,423,561</td> <td>1,832,245</td> <td>408,684</td> <td>6.51% </td>\n",
       "        </tr>\n",
       "    </tbody>\n",
       "</table>"
      ],
      "text/plain": [
       "<IPython.core.display.HTML object>"
      ]
     },
     "metadata": {},
     "output_type": "display_data"
    }
   ],
   "source": [
    "females.where('Change', are.above(350000)).sort('AGE').show()"
   ]
  },
  {
   "cell_type": "code",
   "execution_count": 78,
   "metadata": {
    "collapsed": false
   },
   "outputs": [
    {
     "data": {
      "text/html": [
       "<table border=\"1\" class=\"dataframe\">\n",
       "    <thead>\n",
       "        <tr>\n",
       "            <th>SEX</th> <th>AGE</th> <th>2010</th> <th>2014</th> <th>Change</th> <th>Growth</th>\n",
       "        </tr>\n",
       "    </thead>\n",
       "    <tbody>\n",
       "        <tr>\n",
       "            <td>2   </td> <td>55  </td> <td>2,183,762</td> <td>2,263,367</td> <td>79,605 </td> <td>0.90% </td>\n",
       "        </tr>\n",
       "        <tr>\n",
       "            <td>2   </td> <td>56  </td> <td>2,108,681</td> <td>2,254,749</td> <td>146,068</td> <td>1.69% </td>\n",
       "        </tr>\n",
       "        <tr>\n",
       "            <td>2   </td> <td>57  </td> <td>2,036,520</td> <td>2,237,030</td> <td>200,510</td> <td>2.38% </td>\n",
       "        </tr>\n",
       "        <tr>\n",
       "            <td>2   </td> <td>58  </td> <td>1,963,764</td> <td>2,163,798</td> <td>200,034</td> <td>2.45% </td>\n",
       "        </tr>\n",
       "        <tr>\n",
       "            <td>2   </td> <td>59  </td> <td>1,914,772</td> <td>2,148,517</td> <td>233,745</td> <td>2.92% </td>\n",
       "        </tr>\n",
       "        <tr>\n",
       "            <td>2   </td> <td>60  </td> <td>1,874,501</td> <td>2,071,358</td> <td>196,857</td> <td>2.53% </td>\n",
       "        </tr>\n",
       "        <tr>\n",
       "            <td>2   </td> <td>61  </td> <td>1,828,708</td> <td>1,997,348</td> <td>168,640</td> <td>2.23% </td>\n",
       "        </tr>\n",
       "        <tr>\n",
       "            <td>2   </td> <td>62  </td> <td>1,815,999</td> <td>1,922,318</td> <td>106,319</td> <td>1.43% </td>\n",
       "        </tr>\n",
       "        <tr>\n",
       "            <td>2   </td> <td>63  </td> <td>1,898,260</td> <td>1,870,552</td> <td>-27,708</td> <td>-0.37%</td>\n",
       "        </tr>\n",
       "        <tr>\n",
       "            <td>2   </td> <td>64  </td> <td>1,414,220</td> <td>1,826,662</td> <td>412,442</td> <td>6.61% </td>\n",
       "        </tr>\n",
       "        <tr>\n",
       "            <td>2   </td> <td>65  </td> <td>1,405,839</td> <td>1,776,761</td> <td>370,922</td> <td>6.03% </td>\n",
       "        </tr>\n",
       "        <tr>\n",
       "            <td>2   </td> <td>66  </td> <td>1,381,541</td> <td>1,758,649</td> <td>377,108</td> <td>6.22% </td>\n",
       "        </tr>\n",
       "        <tr>\n",
       "            <td>2   </td> <td>67  </td> <td>1,423,561</td> <td>1,832,245</td> <td>408,684</td> <td>6.51% </td>\n",
       "        </tr>\n",
       "        <tr>\n",
       "            <td>2   </td> <td>68  </td> <td>1,254,117</td> <td>1,361,047</td> <td>106,930</td> <td>2.07% </td>\n",
       "        </tr>\n",
       "        <tr>\n",
       "            <td>2   </td> <td>69  </td> <td>1,161,047</td> <td>1,347,458</td> <td>186,411</td> <td>3.79% </td>\n",
       "        </tr>\n",
       "    </tbody>\n",
       "</table>"
      ],
      "text/plain": [
       "<IPython.core.display.HTML object>"
      ]
     },
     "metadata": {},
     "output_type": "display_data"
    }
   ],
   "source": [
    "females.where('AGE', are.between(55, 70)).show()"
   ]
  },
  {
   "cell_type": "code",
   "execution_count": 79,
   "metadata": {
    "collapsed": false
   },
   "outputs": [
    {
     "data": {
      "text/plain": [
       "array([1947, 1948, 1949, 1950])"
      ]
     },
     "execution_count": 79,
     "metadata": {},
     "output_type": "execute_result"
    }
   ],
   "source": [
    "2014 - make_array(67, 66, 65, 64)"
   ]
  },
  {
   "cell_type": "code",
   "execution_count": null,
   "metadata": {
    "collapsed": true
   },
   "outputs": [],
   "source": []
  }
 ],
 "metadata": {
  "kernelspec": {
   "display_name": "Python 3",
   "language": "python",
   "name": "python3"
  },
  "language_info": {
   "codemirror_mode": {
    "name": "ipython",
    "version": 3
   },
   "file_extension": ".py",
   "mimetype": "text/x-python",
   "name": "python",
   "nbconvert_exporter": "python",
   "pygments_lexer": "ipython3",
   "version": "3.6.0"
  }
 },
 "nbformat": 4,
 "nbformat_minor": 2
}
