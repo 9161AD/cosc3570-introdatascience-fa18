{
 "cells": [
  {
   "cell_type": "code",
   "execution_count": 1,
   "metadata": {
    "collapsed": true
   },
   "outputs": [],
   "source": [
    "from datascience import *\n",
    "import numpy as np\n",
    "\n",
    "%matplotlib inline\n",
    "import matplotlib.pyplot as plots\n",
    "plots.style.use('fivethirtyeight')"
   ]
  },
  {
   "cell_type": "code",
   "execution_count": 2,
   "metadata": {
    "collapsed": true
   },
   "outputs": [],
   "source": [
    "movies = Table.read_table(\"top_movies_by_title.csv\") "
   ]
  },
  {
   "cell_type": "code",
   "execution_count": 3,
   "metadata": {
    "collapsed": false
   },
   "outputs": [
    {
     "data": {
      "text/html": [
       "<table border=\"1\" class=\"dataframe\">\n",
       "    <thead>\n",
       "        <tr>\n",
       "            <th>Title</th> <th>Studio</th> <th>Gross</th> <th>Gross (Adjusted)</th> <th>Year</th>\n",
       "        </tr>\n",
       "    </thead>\n",
       "    <tbody>\n",
       "        <tr>\n",
       "            <td>101 Dalmatians            </td> <td>Disney              </td> <td>144880014</td> <td>869280100       </td> <td>1961</td>\n",
       "        </tr>\n",
       "        <tr>\n",
       "            <td>2001: A Space Odyssey     </td> <td>MGM                 </td> <td>56954992 </td> <td>377027700       </td> <td>1968</td>\n",
       "        </tr>\n",
       "        <tr>\n",
       "            <td>9 to 5                    </td> <td>Fox                 </td> <td>103290500</td> <td>334062200       </td> <td>1980</td>\n",
       "        </tr>\n",
       "        <tr>\n",
       "            <td>A Star Is Born (1976)     </td> <td>Warner Bros.        </td> <td>80000000 </td> <td>326760600       </td> <td>1976</td>\n",
       "        </tr>\n",
       "        <tr>\n",
       "            <td>Air Force One             </td> <td>Sony                </td> <td>172956409</td> <td>327752300       </td> <td>1997</td>\n",
       "        </tr>\n",
       "        <tr>\n",
       "            <td>Airport                   </td> <td>Universal           </td> <td>100489151</td> <td>575168200       </td> <td>1970</td>\n",
       "        </tr>\n",
       "        <tr>\n",
       "            <td>Aladdin                   </td> <td>Buena Vista (Disney)</td> <td>217350219</td> <td>456248400       </td> <td>1992</td>\n",
       "        </tr>\n",
       "        <tr>\n",
       "            <td>Alice in Wonderland (2010)</td> <td>Buena Vista (Disney)</td> <td>334191110</td> <td>365718600       </td> <td>2010</td>\n",
       "        </tr>\n",
       "        <tr>\n",
       "            <td>American Graffiti         </td> <td>Universal           </td> <td>115000000</td> <td>571714300       </td> <td>1973</td>\n",
       "        </tr>\n",
       "        <tr>\n",
       "            <td>American Sniper           </td> <td>Warner Bros.        </td> <td>350126372</td> <td>374796000       </td> <td>2014</td>\n",
       "        </tr>\n",
       "    </tbody>\n",
       "</table>\n",
       "<p>... (190 rows omitted)</p>"
      ],
      "text/plain": [
       "Title                      | Studio               | Gross     | Gross (Adjusted) | Year\n",
       "101 Dalmatians             | Disney               | 144880014 | 869280100        | 1961\n",
       "2001: A Space Odyssey      | MGM                  | 56954992  | 377027700        | 1968\n",
       "9 to 5                     | Fox                  | 103290500 | 334062200        | 1980\n",
       "A Star Is Born (1976)      | Warner Bros.         | 80000000  | 326760600        | 1976\n",
       "Air Force One              | Sony                 | 172956409 | 327752300        | 1997\n",
       "Airport                    | Universal            | 100489151 | 575168200        | 1970\n",
       "Aladdin                    | Buena Vista (Disney) | 217350219 | 456248400        | 1992\n",
       "Alice in Wonderland (2010) | Buena Vista (Disney) | 334191110 | 365718600        | 2010\n",
       "American Graffiti          | Universal            | 115000000 | 571714300        | 1973\n",
       "American Sniper            | Warner Bros.         | 350126372 | 374796000        | 2014\n",
       "... (190 rows omitted)"
      ]
     },
     "execution_count": 3,
     "metadata": {},
     "output_type": "execute_result"
    }
   ],
   "source": [
    "movies"
   ]
  },
  {
   "cell_type": "code",
   "execution_count": 5,
   "metadata": {
    "collapsed": false
   },
   "outputs": [
    {
     "data": {
      "text/html": [
       "<table border=\"1\" class=\"dataframe\">\n",
       "    <thead>\n",
       "        <tr>\n",
       "            <th>Title</th> <th>Studio</th> <th>Gross</th> <th>Gross (Adjusted)</th> <th>Year</th>\n",
       "        </tr>\n",
       "    </thead>\n",
       "    <tbody>\n",
       "        <tr>\n",
       "            <td>101 Dalmatians            </td> <td>Disney              </td> <td>144880014</td> <td>869280100       </td> <td>1961</td>\n",
       "        </tr>\n",
       "        <tr>\n",
       "            <td>2001: A Space Odyssey     </td> <td>MGM                 </td> <td>56954992 </td> <td>377027700       </td> <td>1968</td>\n",
       "        </tr>\n",
       "        <tr>\n",
       "            <td>9 to 5                    </td> <td>Fox                 </td> <td>103290500</td> <td>334062200       </td> <td>1980</td>\n",
       "        </tr>\n",
       "        <tr>\n",
       "            <td>A Star Is Born (1976)     </td> <td>Warner Bros.        </td> <td>80000000 </td> <td>326760600       </td> <td>1976</td>\n",
       "        </tr>\n",
       "        <tr>\n",
       "            <td>Air Force One             </td> <td>Sony                </td> <td>172956409</td> <td>327752300       </td> <td>1997</td>\n",
       "        </tr>\n",
       "        <tr>\n",
       "            <td>Airport                   </td> <td>Universal           </td> <td>100489151</td> <td>575168200       </td> <td>1970</td>\n",
       "        </tr>\n",
       "        <tr>\n",
       "            <td>Aladdin                   </td> <td>Buena Vista (Disney)</td> <td>217350219</td> <td>456248400       </td> <td>1992</td>\n",
       "        </tr>\n",
       "        <tr>\n",
       "            <td>Alice in Wonderland (2010)</td> <td>Buena Vista (Disney)</td> <td>334191110</td> <td>365718600       </td> <td>2010</td>\n",
       "        </tr>\n",
       "        <tr>\n",
       "            <td>American Graffiti         </td> <td>Universal           </td> <td>115000000</td> <td>571714300       </td> <td>1973</td>\n",
       "        </tr>\n",
       "        <tr>\n",
       "            <td>American Sniper           </td> <td>Warner Bros.        </td> <td>350126372</td> <td>374796000       </td> <td>2014</td>\n",
       "        </tr>\n",
       "    </tbody>\n",
       "</table>\n",
       "<p>... (190 rows omitted)</p>"
      ],
      "text/plain": [
       "<IPython.core.display.HTML object>"
      ]
     },
     "metadata": {},
     "output_type": "display_data"
    }
   ],
   "source": [
    "movies.show(10)"
   ]
  },
  {
   "cell_type": "code",
   "execution_count": 6,
   "metadata": {
    "collapsed": false
   },
   "outputs": [
    {
     "data": {
      "text/plain": [
       "array([1961, 1968, 1980, 1976, 1997, 1970, 1992, 2010, 1973, 2014, 1982,\n",
       "       1995, 1998, 1956, 1999, 2009, 2015, 1985, 1942, 1989, 1995, 1992,\n",
       "       1991, 1959, 1984, 1987, 1974, 2003, 1969, 2006, 2000, 1950, 1963,\n",
       "       1977, 1986, 1990, 2013, 1965, 1946, 1982, 1974, 1941, 1987, 2003,\n",
       "       1994, 2013, 1968, 2015, 1990, 1984, 1964, 1939, 1978, 1984, 2014,\n",
       "       1967, 2002, 2011, 2005, 2009, 2007, 2004, 2001, 1990, 1992, 1953,\n",
       "       2000, 1996, 2008, 1989, 1984, 2015, 2008, 2010, 2013, 1963, 1975,\n",
       "       1993, 2015, 1979, 1955, 1962, 1989, 1997, 1970, 1970, 2012, 1964,\n",
       "       2004, 1997, 2015, 1996, 2000, 2001, 1993, 2002, 1964, 1978, 2006,\n",
       "       1981, 1975, 1970, 1953, 1940, 2007, 2006, 2003, 1982, 1990, 1960,\n",
       "       1981, 1988, 1985, 1954, 1983, 1991, 1976, 1982, 2001, 1977, 1998,\n",
       "       1941, 2001, 2004, 2007, 2002, 2012, 1959, 1977, 1937, 2002, 2004,\n",
       "       2007, 1977, 1999, 2002, 2005, 2015, 1980, 1978, 1981, 1960, 1991,\n",
       "       1945, 1946, 1957, 1954, 2005, 2008, 2012, 1980, 1973, 1993, 1921,\n",
       "       1993, 1972, 1967, 1952, 2009, 2012, 2012, 2013, 2014, 2004, 1967,\n",
       "       1994, 2001, 2003, 2002, 1997, 2003, 2004, 1972, 1953, 1975, 1999,\n",
       "       1965, 1973, 1956, 1974, 2010, 2009, 1998, 1987, 1965, 1997, 1982,\n",
       "       1986, 1995, 1999, 2010, 2007, 2011, 2009, 1996, 2009, 1961, 1972,\n",
       "       1988, 1974])"
      ]
     },
     "execution_count": 6,
     "metadata": {},
     "output_type": "execute_result"
    }
   ],
   "source": [
    "movies.column('Year')"
   ]
  },
  {
   "cell_type": "code",
   "execution_count": 7,
   "metadata": {
    "collapsed": false
   },
   "outputs": [
    {
     "data": {
      "text/plain": [
       "array([57, 50, 38, 42, 21, 48, 26,  8, 45,  4, 36, 23, 20, 62, 19,  9,  3,\n",
       "       33, 76, 29, 23, 26, 27, 59, 34, 31, 44, 15, 49, 12, 18, 68, 55, 41,\n",
       "       32, 28,  5, 53, 72, 36, 44, 77, 31, 15, 24,  5, 50,  3, 28, 34, 54,\n",
       "       79, 40, 34,  4, 51, 16,  7, 13,  9, 11, 14, 17, 28, 26, 65, 18, 22,\n",
       "       10, 29, 34,  3, 10,  8,  5, 55, 43, 25,  3, 39, 63, 56, 29, 21, 48,\n",
       "       48,  6, 54, 14, 21,  3, 22, 18, 17, 25, 16, 54, 40, 12, 37, 43, 48,\n",
       "       65, 78, 11, 12, 15, 36, 28, 58, 37, 30, 33, 64, 35, 27, 42, 36, 17,\n",
       "       41, 20, 77, 17, 14, 11, 16,  6, 59, 41, 81, 16, 14, 11, 41, 19, 16,\n",
       "       13,  3, 38, 40, 37, 58, 27, 73, 72, 61, 64, 13, 10,  6, 38, 45, 25,\n",
       "       97, 25, 46, 51, 66,  9,  6,  6,  5,  4, 14, 51, 24, 17, 15, 16, 21,\n",
       "       15, 14, 46, 65, 43, 19, 53, 45, 62, 44,  8,  9, 20, 31, 53, 21, 36,\n",
       "       32, 23, 19,  8, 11,  7,  9, 22,  9, 57, 46, 30, 44])"
      ]
     },
     "execution_count": 7,
     "metadata": {},
     "output_type": "execute_result"
    }
   ],
   "source": [
    "2018 - movies.column('Year')"
   ]
  },
  {
   "cell_type": "code",
   "execution_count": 8,
   "metadata": {
    "collapsed": false
   },
   "outputs": [
    {
     "data": {
      "text/html": [
       "<table border=\"1\" class=\"dataframe\">\n",
       "    <thead>\n",
       "        <tr>\n",
       "            <th>Title</th> <th>Studio</th> <th>Gross</th> <th>Gross (Adjusted)</th> <th>Year</th> <th>Age</th>\n",
       "        </tr>\n",
       "    </thead>\n",
       "    <tbody>\n",
       "        <tr>\n",
       "            <td>101 Dalmatians            </td> <td>Disney              </td> <td>144880014</td> <td>869280100       </td> <td>1961</td> <td>57  </td>\n",
       "        </tr>\n",
       "        <tr>\n",
       "            <td>2001: A Space Odyssey     </td> <td>MGM                 </td> <td>56954992 </td> <td>377027700       </td> <td>1968</td> <td>50  </td>\n",
       "        </tr>\n",
       "        <tr>\n",
       "            <td>9 to 5                    </td> <td>Fox                 </td> <td>103290500</td> <td>334062200       </td> <td>1980</td> <td>38  </td>\n",
       "        </tr>\n",
       "        <tr>\n",
       "            <td>A Star Is Born (1976)     </td> <td>Warner Bros.        </td> <td>80000000 </td> <td>326760600       </td> <td>1976</td> <td>42  </td>\n",
       "        </tr>\n",
       "        <tr>\n",
       "            <td>Air Force One             </td> <td>Sony                </td> <td>172956409</td> <td>327752300       </td> <td>1997</td> <td>21  </td>\n",
       "        </tr>\n",
       "        <tr>\n",
       "            <td>Airport                   </td> <td>Universal           </td> <td>100489151</td> <td>575168200       </td> <td>1970</td> <td>48  </td>\n",
       "        </tr>\n",
       "        <tr>\n",
       "            <td>Aladdin                   </td> <td>Buena Vista (Disney)</td> <td>217350219</td> <td>456248400       </td> <td>1992</td> <td>26  </td>\n",
       "        </tr>\n",
       "        <tr>\n",
       "            <td>Alice in Wonderland (2010)</td> <td>Buena Vista (Disney)</td> <td>334191110</td> <td>365718600       </td> <td>2010</td> <td>8   </td>\n",
       "        </tr>\n",
       "        <tr>\n",
       "            <td>American Graffiti         </td> <td>Universal           </td> <td>115000000</td> <td>571714300       </td> <td>1973</td> <td>45  </td>\n",
       "        </tr>\n",
       "        <tr>\n",
       "            <td>American Sniper           </td> <td>Warner Bros.        </td> <td>350126372</td> <td>374796000       </td> <td>2014</td> <td>4   </td>\n",
       "        </tr>\n",
       "    </tbody>\n",
       "</table>\n",
       "<p>... (190 rows omitted)</p>"
      ],
      "text/plain": [
       "Title                      | Studio               | Gross     | Gross (Adjusted) | Year | Age\n",
       "101 Dalmatians             | Disney               | 144880014 | 869280100        | 1961 | 57\n",
       "2001: A Space Odyssey      | MGM                  | 56954992  | 377027700        | 1968 | 50\n",
       "9 to 5                     | Fox                  | 103290500 | 334062200        | 1980 | 38\n",
       "A Star Is Born (1976)      | Warner Bros.         | 80000000  | 326760600        | 1976 | 42\n",
       "Air Force One              | Sony                 | 172956409 | 327752300        | 1997 | 21\n",
       "Airport                    | Universal            | 100489151 | 575168200        | 1970 | 48\n",
       "Aladdin                    | Buena Vista (Disney) | 217350219 | 456248400        | 1992 | 26\n",
       "Alice in Wonderland (2010) | Buena Vista (Disney) | 334191110 | 365718600        | 2010 | 8\n",
       "American Graffiti          | Universal            | 115000000 | 571714300        | 1973 | 45\n",
       "American Sniper            | Warner Bros.         | 350126372 | 374796000        | 2014 | 4\n",
       "... (190 rows omitted)"
      ]
     },
     "execution_count": 8,
     "metadata": {},
     "output_type": "execute_result"
    }
   ],
   "source": [
    "movies.with_column('Age',2018 - movies.column('Year'))"
   ]
  },
  {
   "cell_type": "code",
   "execution_count": 9,
   "metadata": {
    "collapsed": false
   },
   "outputs": [
    {
     "data": {
      "text/plain": [
       "array([57, 50, 38, 42, 21, 48, 26,  8, 45,  4, 36, 23, 20, 62, 19,  9,  3,\n",
       "       33, 76, 29, 23, 26, 27, 59, 34, 31, 44, 15, 49, 12, 18, 68, 55, 41,\n",
       "       32, 28,  5, 53, 72, 36, 44, 77, 31, 15, 24,  5, 50,  3, 28, 34, 54,\n",
       "       79, 40, 34,  4, 51, 16,  7, 13,  9, 11, 14, 17, 28, 26, 65, 18, 22,\n",
       "       10, 29, 34,  3, 10,  8,  5, 55, 43, 25,  3, 39, 63, 56, 29, 21, 48,\n",
       "       48,  6, 54, 14, 21,  3, 22, 18, 17, 25, 16, 54, 40, 12, 37, 43, 48,\n",
       "       65, 78, 11, 12, 15, 36, 28, 58, 37, 30, 33, 64, 35, 27, 42, 36, 17,\n",
       "       41, 20, 77, 17, 14, 11, 16,  6, 59, 41, 81, 16, 14, 11, 41, 19, 16,\n",
       "       13,  3, 38, 40, 37, 58, 27, 73, 72, 61, 64, 13, 10,  6, 38, 45, 25,\n",
       "       97, 25, 46, 51, 66,  9,  6,  6,  5,  4, 14, 51, 24, 17, 15, 16, 21,\n",
       "       15, 14, 46, 65, 43, 19, 53, 45, 62, 44,  8,  9, 20, 31, 53, 21, 36,\n",
       "       32, 23, 19,  8, 11,  7,  9, 22,  9, 57, 46, 30, 44])"
      ]
     },
     "execution_count": 9,
     "metadata": {},
     "output_type": "execute_result"
    }
   ],
   "source": [
    "age = 2018 - movies.column('Year')\n",
    "age"
   ]
  },
  {
   "cell_type": "code",
   "execution_count": 10,
   "metadata": {
    "collapsed": false
   },
   "outputs": [
    {
     "data": {
      "text/html": [
       "<table border=\"1\" class=\"dataframe\">\n",
       "    <thead>\n",
       "        <tr>\n",
       "            <th>Title</th> <th>Studio</th> <th>Gross</th> <th>Gross (Adjusted)</th> <th>Year</th> <th>Age</th>\n",
       "        </tr>\n",
       "    </thead>\n",
       "    <tbody>\n",
       "        <tr>\n",
       "            <td>101 Dalmatians            </td> <td>Disney              </td> <td>144880014</td> <td>869280100       </td> <td>1961</td> <td>57  </td>\n",
       "        </tr>\n",
       "        <tr>\n",
       "            <td>2001: A Space Odyssey     </td> <td>MGM                 </td> <td>56954992 </td> <td>377027700       </td> <td>1968</td> <td>50  </td>\n",
       "        </tr>\n",
       "        <tr>\n",
       "            <td>9 to 5                    </td> <td>Fox                 </td> <td>103290500</td> <td>334062200       </td> <td>1980</td> <td>38  </td>\n",
       "        </tr>\n",
       "        <tr>\n",
       "            <td>A Star Is Born (1976)     </td> <td>Warner Bros.        </td> <td>80000000 </td> <td>326760600       </td> <td>1976</td> <td>42  </td>\n",
       "        </tr>\n",
       "        <tr>\n",
       "            <td>Air Force One             </td> <td>Sony                </td> <td>172956409</td> <td>327752300       </td> <td>1997</td> <td>21  </td>\n",
       "        </tr>\n",
       "        <tr>\n",
       "            <td>Airport                   </td> <td>Universal           </td> <td>100489151</td> <td>575168200       </td> <td>1970</td> <td>48  </td>\n",
       "        </tr>\n",
       "        <tr>\n",
       "            <td>Aladdin                   </td> <td>Buena Vista (Disney)</td> <td>217350219</td> <td>456248400       </td> <td>1992</td> <td>26  </td>\n",
       "        </tr>\n",
       "        <tr>\n",
       "            <td>Alice in Wonderland (2010)</td> <td>Buena Vista (Disney)</td> <td>334191110</td> <td>365718600       </td> <td>2010</td> <td>8   </td>\n",
       "        </tr>\n",
       "        <tr>\n",
       "            <td>American Graffiti         </td> <td>Universal           </td> <td>115000000</td> <td>571714300       </td> <td>1973</td> <td>45  </td>\n",
       "        </tr>\n",
       "        <tr>\n",
       "            <td>American Sniper           </td> <td>Warner Bros.        </td> <td>350126372</td> <td>374796000       </td> <td>2014</td> <td>4   </td>\n",
       "        </tr>\n",
       "    </tbody>\n",
       "</table>\n",
       "<p>... (190 rows omitted)</p>"
      ],
      "text/plain": [
       "Title                      | Studio               | Gross     | Gross (Adjusted) | Year | Age\n",
       "101 Dalmatians             | Disney               | 144880014 | 869280100        | 1961 | 57\n",
       "2001: A Space Odyssey      | MGM                  | 56954992  | 377027700        | 1968 | 50\n",
       "9 to 5                     | Fox                  | 103290500 | 334062200        | 1980 | 38\n",
       "A Star Is Born (1976)      | Warner Bros.         | 80000000  | 326760600        | 1976 | 42\n",
       "Air Force One              | Sony                 | 172956409 | 327752300        | 1997 | 21\n",
       "Airport                    | Universal            | 100489151 | 575168200        | 1970 | 48\n",
       "Aladdin                    | Buena Vista (Disney) | 217350219 | 456248400        | 1992 | 26\n",
       "Alice in Wonderland (2010) | Buena Vista (Disney) | 334191110 | 365718600        | 2010 | 8\n",
       "American Graffiti          | Universal            | 115000000 | 571714300        | 1973 | 45\n",
       "American Sniper            | Warner Bros.         | 350126372 | 374796000        | 2014 | 4\n",
       "... (190 rows omitted)"
      ]
     },
     "execution_count": 10,
     "metadata": {},
     "output_type": "execute_result"
    }
   ],
   "source": [
    "movies = movies.with_column('Age',age)\n",
    "movies"
   ]
  },
  {
   "cell_type": "code",
   "execution_count": 11,
   "metadata": {
    "collapsed": false
   },
   "outputs": [
    {
     "data": {
      "text/html": [
       "<table border=\"1\" class=\"dataframe\">\n",
       "    <thead>\n",
       "        <tr>\n",
       "            <th>Title</th> <th>Studio</th> <th>Gross</th> <th>Gross (Adjusted)</th> <th>Year</th> <th>Age</th>\n",
       "        </tr>\n",
       "    </thead>\n",
       "    <tbody>\n",
       "        <tr>\n",
       "            <td>Avengers: Age of Ultron                    </td> <td>Buena Vista (Disney)   </td> <td>459005868</td> <td>465684200       </td> <td>2015</td> <td>3   </td>\n",
       "        </tr>\n",
       "        <tr>\n",
       "            <td>Furious 7                                  </td> <td>Universal              </td> <td>353007020</td> <td>356907000       </td> <td>2015</td> <td>3   </td>\n",
       "        </tr>\n",
       "        <tr>\n",
       "            <td>Inside Out                                 </td> <td>Buena Vista (Disney)   </td> <td>356461711</td> <td>375723400       </td> <td>2015</td> <td>3   </td>\n",
       "        </tr>\n",
       "        <tr>\n",
       "            <td>Jurassic World                             </td> <td>Universal              </td> <td>652270625</td> <td>687728000       </td> <td>2015</td> <td>3   </td>\n",
       "        </tr>\n",
       "        <tr>\n",
       "            <td>Minions                                    </td> <td>Universal              </td> <td>336045770</td> <td>354213900       </td> <td>2015</td> <td>3   </td>\n",
       "        </tr>\n",
       "        <tr>\n",
       "            <td>Star Wars: The Force Awakens               </td> <td>Buena Vista (Disney)   </td> <td>906723418</td> <td>906723400       </td> <td>2015</td> <td>3   </td>\n",
       "        </tr>\n",
       "        <tr>\n",
       "            <td>American Sniper                            </td> <td>Warner Bros.           </td> <td>350126372</td> <td>374796000       </td> <td>2014</td> <td>4   </td>\n",
       "        </tr>\n",
       "        <tr>\n",
       "            <td>Guardians of the Galaxy                    </td> <td>Buena Vista (Disney)   </td> <td>333176600</td> <td>358244800       </td> <td>2014</td> <td>4   </td>\n",
       "        </tr>\n",
       "        <tr>\n",
       "            <td>The Hunger Games: Mockingjay - Part 1      </td> <td>Lionsgate              </td> <td>337135885</td> <td>354324000       </td> <td>2014</td> <td>4   </td>\n",
       "        </tr>\n",
       "        <tr>\n",
       "            <td>Despicable Me 2                            </td> <td>Universal              </td> <td>368061265</td> <td>407978700       </td> <td>2013</td> <td>5   </td>\n",
       "        </tr>\n",
       "        <tr>\n",
       "            <td>Frozen                                     </td> <td>Buena Vista (Disney)   </td> <td>400738009</td> <td>426656900       </td> <td>2013</td> <td>5   </td>\n",
       "        </tr>\n",
       "        <tr>\n",
       "            <td>Iron Man 3                                 </td> <td>Buena Vista (Disney)   </td> <td>409013994</td> <td>424632700       </td> <td>2013</td> <td>5   </td>\n",
       "        </tr>\n",
       "        <tr>\n",
       "            <td>The Hunger Games: Catching Fire            </td> <td>Lionsgate              </td> <td>424668047</td> <td>444697400       </td> <td>2013</td> <td>5   </td>\n",
       "        </tr>\n",
       "        <tr>\n",
       "            <td>Marvel's The Avengers                      </td> <td>Buena Vista (Disney)   </td> <td>623357910</td> <td>668866600       </td> <td>2012</td> <td>6   </td>\n",
       "        </tr>\n",
       "        <tr>\n",
       "            <td>Skyfall                                    </td> <td>Sony                   </td> <td>304360277</td> <td>329225400       </td> <td>2012</td> <td>6   </td>\n",
       "        </tr>\n",
       "        <tr>\n",
       "            <td>The Dark Knight Rises                      </td> <td>Warner Bros.           </td> <td>448139099</td> <td>500961700       </td> <td>2012</td> <td>6   </td>\n",
       "        </tr>\n",
       "        <tr>\n",
       "            <td>The Hobbit: An Unexpected Journey          </td> <td>Warner Bros. (New Line)</td> <td>303003568</td> <td>329153300       </td> <td>2012</td> <td>6   </td>\n",
       "        </tr>\n",
       "        <tr>\n",
       "            <td>The Hunger Games                           </td> <td>Lionsgate              </td> <td>408010692</td> <td>442510400       </td> <td>2012</td> <td>6   </td>\n",
       "        </tr>\n",
       "        <tr>\n",
       "            <td>Harry Potter and the Deathly Hallows Part 2</td> <td>Warner Bros.           </td> <td>381011219</td> <td>417512200       </td> <td>2011</td> <td>7   </td>\n",
       "        </tr>\n",
       "        <tr>\n",
       "            <td>Transformers: Dark of the Moon             </td> <td>Paramount/Dreamworks   </td> <td>352390543</td> <td>385069700       </td> <td>2011</td> <td>7   </td>\n",
       "        </tr>\n",
       "    </tbody>\n",
       "</table>\n",
       "<p>... (180 rows omitted)</p>"
      ],
      "text/plain": [
       "<IPython.core.display.HTML object>"
      ]
     },
     "metadata": {},
     "output_type": "display_data"
    }
   ],
   "source": [
    "movies.sort('Age').show(20)"
   ]
  },
  {
   "cell_type": "code",
   "execution_count": 12,
   "metadata": {
    "collapsed": false
   },
   "outputs": [
    {
     "data": {
      "image/png": "[encoded data removed]",
      "text/plain": [
       "<matplotlib.figure.Figure at 0x10da96710>"
      ]
     },
     "metadata": {},
     "output_type": "display_data"
    }
   ],
   "source": [
    "movies.scatter('Age','Gross')"
   ]
  },
  {
   "cell_type": "code",
   "execution_count": 13,
   "metadata": {
    "collapsed": false
   },
   "outputs": [
    {
     "data": {
      "image/png": "[encoded data removed]",
      "text/plain": [
       "<matplotlib.figure.Figure at 0x110e42b38>"
      ]
     },
     "metadata": {},
     "output_type": "display_data"
    }
   ],
   "source": [
    "movies.scatter('Age','Gross (Adjusted)')"
   ]
  },
  {
   "cell_type": "code",
   "execution_count": 14,
   "metadata": {
    "collapsed": true
   },
   "outputs": [],
   "source": [
    "countries = make_array('Russia','US','Norway')"
   ]
  },
  {
   "cell_type": "code",
   "execution_count": 15,
   "metadata": {
    "collapsed": false
   },
   "outputs": [
    {
     "data": {
      "text/plain": [
       "array(['Russia', 'US', 'Norway'], \n",
       "      dtype='<U6')"
      ]
     },
     "execution_count": 15,
     "metadata": {},
     "output_type": "execute_result"
    }
   ],
   "source": [
    "countries"
   ]
  },
  {
   "cell_type": "code",
   "execution_count": 17,
   "metadata": {
    "collapsed": false
   },
   "outputs": [
    {
     "data": {
      "text/html": [
       "<table border=\"1\" class=\"dataframe\">\n",
       "    <thead>\n",
       "        <tr>\n",
       "            \n",
       "        </tr>\n",
       "    </thead>\n",
       "    <tbody>\n",
       "    </tbody>\n",
       "</table>"
      ],
      "text/plain": []
     },
     "execution_count": 17,
     "metadata": {},
     "output_type": "execute_result"
    }
   ],
   "source": [
    "Table()"
   ]
  },
  {
   "cell_type": "code",
   "execution_count": 18,
   "metadata": {
    "collapsed": true
   },
   "outputs": [],
   "source": [
    "countries = make_array('Russia','US','Norway')"
   ]
  },
  {
   "cell_type": "code",
   "execution_count": 19,
   "metadata": {
    "collapsed": false
   },
   "outputs": [
    {
     "data": {
      "text/plain": [
       "array(['Russia', 'US', 'Norway'], \n",
       "      dtype='<U6')"
      ]
     },
     "execution_count": 19,
     "metadata": {},
     "output_type": "execute_result"
    }
   ],
   "source": [
    "countries"
   ]
  },
  {
   "cell_type": "code",
   "execution_count": 21,
   "metadata": {
    "collapsed": false
   },
   "outputs": [
    {
     "data": {
      "text/html": [
       "<table border=\"1\" class=\"dataframe\">\n",
       "    <thead>\n",
       "        <tr>\n",
       "            <th>Country</th>\n",
       "        </tr>\n",
       "    </thead>\n",
       "    <tbody>\n",
       "        <tr>\n",
       "            <td>Russia </td>\n",
       "        </tr>\n",
       "        <tr>\n",
       "            <td>US     </td>\n",
       "        </tr>\n",
       "        <tr>\n",
       "            <td>Norway </td>\n",
       "        </tr>\n",
       "    </tbody>\n",
       "</table>"
      ],
      "text/plain": [
       "Country\n",
       "Russia\n",
       "US\n",
       "Norway"
      ]
     },
     "execution_count": 21,
     "metadata": {},
     "output_type": "execute_result"
    }
   ],
   "source": [
    "Table().with_column('Country',countries)"
   ]
  },
  {
   "cell_type": "code",
   "execution_count": 22,
   "metadata": {
    "collapsed": true
   },
   "outputs": [],
   "source": [
    "medals = make_array(29,28,26)"
   ]
  },
  {
   "cell_type": "code",
   "execution_count": 23,
   "metadata": {
    "collapsed": false
   },
   "outputs": [
    {
     "data": {
      "text/plain": [
       "array([29, 28, 26])"
      ]
     },
     "execution_count": 23,
     "metadata": {},
     "output_type": "execute_result"
    }
   ],
   "source": [
    "medals"
   ]
  },
  {
   "cell_type": "code",
   "execution_count": 24,
   "metadata": {
    "collapsed": true
   },
   "outputs": [],
   "source": [
    "medal_count = Table().with_columns('Country',countries,'Medals',medals)"
   ]
  },
  {
   "cell_type": "code",
   "execution_count": 25,
   "metadata": {
    "collapsed": false
   },
   "outputs": [
    {
     "data": {
      "text/html": [
       "<table border=\"1\" class=\"dataframe\">\n",
       "    <thead>\n",
       "        <tr>\n",
       "            <th>Country</th> <th>Medals</th>\n",
       "        </tr>\n",
       "    </thead>\n",
       "    <tbody>\n",
       "        <tr>\n",
       "            <td>Russia </td> <td>29    </td>\n",
       "        </tr>\n",
       "        <tr>\n",
       "            <td>US     </td> <td>28    </td>\n",
       "        </tr>\n",
       "        <tr>\n",
       "            <td>Norway </td> <td>26    </td>\n",
       "        </tr>\n",
       "    </tbody>\n",
       "</table>"
      ],
      "text/plain": [
       "Country | Medals\n",
       "Russia  | 29\n",
       "US      | 28\n",
       "Norway  | 26"
      ]
     },
     "execution_count": 25,
     "metadata": {},
     "output_type": "execute_result"
    }
   ],
   "source": [
    "medal_count"
   ]
  },
  {
   "cell_type": "code",
   "execution_count": 26,
   "metadata": {
    "collapsed": true
   },
   "outputs": [],
   "source": [
    "medal_count = medal_count.with_column('Gold', make_array(11,9,11))"
   ]
  },
  {
   "cell_type": "code",
   "execution_count": 27,
   "metadata": {
    "collapsed": false
   },
   "outputs": [
    {
     "data": {
      "text/html": [
       "<table border=\"1\" class=\"dataframe\">\n",
       "    <thead>\n",
       "        <tr>\n",
       "            <th>Country</th> <th>Medals</th> <th>Gold</th>\n",
       "        </tr>\n",
       "    </thead>\n",
       "    <tbody>\n",
       "        <tr>\n",
       "            <td>Russia </td> <td>29    </td> <td>11  </td>\n",
       "        </tr>\n",
       "        <tr>\n",
       "            <td>US     </td> <td>28    </td> <td>9   </td>\n",
       "        </tr>\n",
       "        <tr>\n",
       "            <td>Norway </td> <td>26    </td> <td>11  </td>\n",
       "        </tr>\n",
       "    </tbody>\n",
       "</table>"
      ],
      "text/plain": [
       "Country | Medals | Gold\n",
       "Russia  | 29     | 11\n",
       "US      | 28     | 9\n",
       "Norway  | 26     | 11"
      ]
     },
     "execution_count": 27,
     "metadata": {},
     "output_type": "execute_result"
    }
   ],
   "source": [
    "medal_count"
   ]
  },
  {
   "cell_type": "code",
   "execution_count": 29,
   "metadata": {
    "collapsed": false
   },
   "outputs": [
    {
     "data": {
      "text/html": [
       "<table border=\"1\" class=\"dataframe\">\n",
       "    <thead>\n",
       "        <tr>\n",
       "            <th>Longitude</th> <th>Latitude</th> <th>City</th> <th>Direction</th> <th>Survivors</th>\n",
       "        </tr>\n",
       "    </thead>\n",
       "    <tbody>\n",
       "        <tr>\n",
       "            <td>32       </td> <td>54.8    </td> <td>Smolensk   </td> <td>Advance  </td> <td>145000   </td>\n",
       "        </tr>\n",
       "        <tr>\n",
       "            <td>33.2     </td> <td>54.9    </td> <td>Dorogobouge</td> <td>Advance  </td> <td>140000   </td>\n",
       "        </tr>\n",
       "        <tr>\n",
       "            <td>34.4     </td> <td>55.5    </td> <td>Chjat      </td> <td>Advance  </td> <td>127100   </td>\n",
       "        </tr>\n",
       "        <tr>\n",
       "            <td>37.6     </td> <td>55.8    </td> <td>Moscou     </td> <td>Advance  </td> <td>100000   </td>\n",
       "        </tr>\n",
       "        <tr>\n",
       "            <td>34.3     </td> <td>55.2    </td> <td>Wixma      </td> <td>Retreat  </td> <td>55000    </td>\n",
       "        </tr>\n",
       "        <tr>\n",
       "            <td>32       </td> <td>54.6    </td> <td>Smolensk   </td> <td>Retreat  </td> <td>24000    </td>\n",
       "        </tr>\n",
       "        <tr>\n",
       "            <td>30.4     </td> <td>54.4    </td> <td>Orscha     </td> <td>Retreat  </td> <td>20000    </td>\n",
       "        </tr>\n",
       "        <tr>\n",
       "            <td>26.8     </td> <td>54.3    </td> <td>Moiodexno  </td> <td>Retreat  </td> <td>12000    </td>\n",
       "        </tr>\n",
       "    </tbody>\n",
       "</table>"
      ],
      "text/plain": [
       "Longitude | Latitude | City        | Direction | Survivors\n",
       "32        | 54.8     | Smolensk    | Advance   | 145000\n",
       "33.2      | 54.9     | Dorogobouge | Advance   | 140000\n",
       "34.4      | 55.5     | Chjat       | Advance   | 127100\n",
       "37.6      | 55.8     | Moscou      | Advance   | 100000\n",
       "34.3      | 55.2     | Wixma       | Retreat   | 55000\n",
       "32        | 54.6     | Smolensk    | Retreat   | 24000\n",
       "30.4      | 54.4     | Orscha      | Retreat   | 20000\n",
       "26.8      | 54.3     | Moiodexno   | Retreat   | 12000"
      ]
     },
     "execution_count": 29,
     "metadata": {},
     "output_type": "execute_result"
    }
   ],
   "source": [
    "#doing minard\n",
    "minard = Table.read_table('minard.csv')\n",
    "minard"
   ]
  },
  {
   "cell_type": "code",
   "execution_count": 30,
   "metadata": {
    "collapsed": false
   },
   "outputs": [
    {
     "data": {
      "text/plain": [
       "5"
      ]
     },
     "execution_count": 30,
     "metadata": {},
     "output_type": "execute_result"
    }
   ],
   "source": [
    "minard.num_columns"
   ]
  },
  {
   "cell_type": "code",
   "execution_count": 31,
   "metadata": {
    "collapsed": false
   },
   "outputs": [
    {
     "data": {
      "text/plain": [
       "8"
      ]
     },
     "execution_count": 31,
     "metadata": {},
     "output_type": "execute_result"
    }
   ],
   "source": [
    "minard.num_rows"
   ]
  },
  {
   "cell_type": "code",
   "execution_count": 32,
   "metadata": {
    "collapsed": false
   },
   "outputs": [
    {
     "data": {
      "text/plain": [
       "('Longitude', 'Latitude', 'City', 'Direction', 'Survivors')"
      ]
     },
     "execution_count": 32,
     "metadata": {},
     "output_type": "execute_result"
    }
   ],
   "source": [
    "minard.labels"
   ]
  },
  {
   "cell_type": "code",
   "execution_count": 33,
   "metadata": {
    "collapsed": false
   },
   "outputs": [
    {
     "data": {
      "text/plain": [
       "array([145000, 140000, 127100, 100000,  55000,  24000,  20000,  12000])"
      ]
     },
     "execution_count": 33,
     "metadata": {},
     "output_type": "execute_result"
    }
   ],
   "source": [
    "minard.column('Survivors')"
   ]
  },
  {
   "cell_type": "code",
   "execution_count": 34,
   "metadata": {
    "collapsed": false
   },
   "outputs": [
    {
     "data": {
      "text/plain": [
       "145000"
      ]
     },
     "execution_count": 34,
     "metadata": {},
     "output_type": "execute_result"
    }
   ],
   "source": [
    "initial_size = minard.column('Survivors').item(0)\n",
    "initial_size"
   ]
  },
  {
   "cell_type": "code",
   "execution_count": 35,
   "metadata": {
    "collapsed": false
   },
   "outputs": [
    {
     "data": {
      "text/plain": [
       "array([ 1.        ,  0.96551724,  0.87655172,  0.68965517,  0.37931034,\n",
       "        0.16551724,  0.13793103,  0.08275862])"
      ]
     },
     "execution_count": 35,
     "metadata": {},
     "output_type": "execute_result"
    }
   ],
   "source": [
    "proportion_surviving = minard.column('Survivors') / initial_size\n",
    "proportion_surviving"
   ]
  },
  {
   "cell_type": "code",
   "execution_count": null,
   "metadata": {
    "collapsed": true
   },
   "outputs": [],
   "source": []
  }
 ],
 "metadata": {
  "kernelspec": {
   "display_name": "Python 3",
   "language": "python",
   "name": "python3"
  },
  "language_info": {
   "codemirror_mode": {
    "name": "ipython",
    "version": 3
   },
   "file_extension": ".py",
   "mimetype": "text/x-python",
   "name": "python",
   "nbconvert_exporter": "python",
   "pygments_lexer": "ipython3",
   "version": "3.6.0"
  }
 },
 "nbformat": 4,
 "nbformat_minor": 2
}
