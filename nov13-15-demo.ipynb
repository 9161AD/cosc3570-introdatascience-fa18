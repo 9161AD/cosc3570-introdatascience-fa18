{
 "cells": [
  {
   "cell_type": "code",
   "execution_count": 3,
   "metadata": {
    "collapsed": true
   },
   "outputs": [],
   "source": [
    "import pandas as pd\n",
    "import statsmodels.formula.api as smf\n",
    "\n",
    "from matplotlib import pyplot as plt\n",
    "from matplotlib.lines import Line2D\n",
    "%matplotlib inline"
   ]
  },
  {
   "cell_type": "code",
   "execution_count": 4,
   "metadata": {
    "collapsed": false
   },
   "outputs": [
    {
     "data": {
      "text/html": [
       "<div>\n",
       "<table border=\"1\" class=\"dataframe\">\n",
       "  <thead>\n",
       "    <tr style=\"text-align: right;\">\n",
       "      <th></th>\n",
       "      <th>Fertility</th>\n",
       "      <th>Agriculture</th>\n",
       "      <th>Examination</th>\n",
       "      <th>Education</th>\n",
       "      <th>Catholic</th>\n",
       "      <th>Infant.Mortality</th>\n",
       "    </tr>\n",
       "  </thead>\n",
       "  <tbody>\n",
       "    <tr>\n",
       "      <th>Courtelary</th>\n",
       "      <td>80.2</td>\n",
       "      <td>17.0</td>\n",
       "      <td>15</td>\n",
       "      <td>12</td>\n",
       "      <td>9.96</td>\n",
       "      <td>22.2</td>\n",
       "    </tr>\n",
       "    <tr>\n",
       "      <th>Delemont</th>\n",
       "      <td>83.1</td>\n",
       "      <td>45.1</td>\n",
       "      <td>6</td>\n",
       "      <td>9</td>\n",
       "      <td>84.84</td>\n",
       "      <td>22.2</td>\n",
       "    </tr>\n",
       "    <tr>\n",
       "      <th>Franches-Mnt</th>\n",
       "      <td>92.5</td>\n",
       "      <td>39.7</td>\n",
       "      <td>5</td>\n",
       "      <td>5</td>\n",
       "      <td>93.40</td>\n",
       "      <td>20.2</td>\n",
       "    </tr>\n",
       "    <tr>\n",
       "      <th>Moutier</th>\n",
       "      <td>85.8</td>\n",
       "      <td>36.5</td>\n",
       "      <td>12</td>\n",
       "      <td>7</td>\n",
       "      <td>33.77</td>\n",
       "      <td>20.3</td>\n",
       "    </tr>\n",
       "    <tr>\n",
       "      <th>Neuveville</th>\n",
       "      <td>76.9</td>\n",
       "      <td>43.5</td>\n",
       "      <td>17</td>\n",
       "      <td>15</td>\n",
       "      <td>5.16</td>\n",
       "      <td>20.6</td>\n",
       "    </tr>\n",
       "  </tbody>\n",
       "</table>\n",
       "</div>"
      ],
      "text/plain": [
       "              Fertility  Agriculture  Examination  Education  Catholic  \\\n",
       "Courtelary         80.2         17.0           15         12      9.96   \n",
       "Delemont           83.1         45.1            6          9     84.84   \n",
       "Franches-Mnt       92.5         39.7            5          5     93.40   \n",
       "Moutier            85.8         36.5           12          7     33.77   \n",
       "Neuveville         76.9         43.5           17         15      5.16   \n",
       "\n",
       "              Infant.Mortality  \n",
       "Courtelary                22.2  \n",
       "Delemont                  22.2  \n",
       "Franches-Mnt              20.2  \n",
       "Moutier                   20.3  \n",
       "Neuveville                20.6  "
      ]
     },
     "execution_count": 4,
     "metadata": {},
     "output_type": "execute_result"
    }
   ],
   "source": [
    "url = \"https://raw.githubusercontent.com/vincentarelbundock/Rdatasets/master/csv/datasets/swiss.csv\"\n",
    "df = pd.read_csv(url, index_col=0)\n",
    "df.head()"
   ]
  },
  {
   "cell_type": "code",
   "execution_count": 7,
   "metadata": {
    "collapsed": true
   },
   "outputs": [],
   "source": [
    "#data wrangling: change column names to be readable and typable\n",
    "df.columns = ['fertility', 'agri', 'exam', 'edu', 'catholic', 'infant_mort']"
   ]
  },
  {
   "cell_type": "code",
   "execution_count": 8,
   "metadata": {
    "collapsed": false
   },
   "outputs": [
    {
     "data": {
      "text/plain": [
       "'fertility ~ agri + exam + edu + catholic + infant_mort'"
      ]
     },
     "execution_count": 8,
     "metadata": {},
     "output_type": "execute_result"
    }
   ],
   "source": [
    "#this is the model we are going to run\n",
    "formula = 'fertility ~ %s'%(\" + \".join(df.columns.values[1:]))\n",
    "formula"
   ]
  },
  {
   "cell_type": "code",
   "execution_count": 9,
   "metadata": {
    "collapsed": false
   },
   "outputs": [
    {
     "data": {
      "text/html": [
       "<table class=\"simpletable\">\n",
       "<caption>OLS Regression Results</caption>\n",
       "<tr>\n",
       "  <th>Dep. Variable:</th>        <td>fertility</td>    <th>  R-squared:         </th> <td>   0.707</td>\n",
       "</tr>\n",
       "<tr>\n",
       "  <th>Model:</th>                   <td>OLS</td>       <th>  Adj. R-squared:    </th> <td>   0.671</td>\n",
       "</tr>\n",
       "<tr>\n",
       "  <th>Method:</th>             <td>Least Squares</td>  <th>  F-statistic:       </th> <td>   19.76</td>\n",
       "</tr>\n",
       "<tr>\n",
       "  <th>Date:</th>             <td>Tue, 13 Nov 2018</td> <th>  Prob (F-statistic):</th> <td>5.59e-10</td>\n",
       "</tr>\n",
       "<tr>\n",
       "  <th>Time:</th>                 <td>09:28:10</td>     <th>  Log-Likelihood:    </th> <td> -156.04</td>\n",
       "</tr>\n",
       "<tr>\n",
       "  <th>No. Observations:</th>      <td>    47</td>      <th>  AIC:               </th> <td>   324.1</td>\n",
       "</tr>\n",
       "<tr>\n",
       "  <th>Df Residuals:</th>          <td>    41</td>      <th>  BIC:               </th> <td>   335.2</td>\n",
       "</tr>\n",
       "<tr>\n",
       "  <th>Df Model:</th>              <td>     5</td>      <th>                     </th>     <td> </td>   \n",
       "</tr>\n",
       "<tr>\n",
       "  <th>Covariance Type:</th>      <td>nonrobust</td>    <th>                     </th>     <td> </td>   \n",
       "</tr>\n",
       "</table>\n",
       "<table class=\"simpletable\">\n",
       "<tr>\n",
       "       <td></td>          <th>coef</th>     <th>std err</th>      <th>t</th>      <th>P>|t|</th> <th>[95.0% Conf. Int.]</th> \n",
       "</tr>\n",
       "<tr>\n",
       "  <th>Intercept</th>   <td>   66.9152</td> <td>   10.706</td> <td>    6.250</td> <td> 0.000</td> <td>   45.294    88.536</td>\n",
       "</tr>\n",
       "<tr>\n",
       "  <th>agri</th>        <td>   -0.1721</td> <td>    0.070</td> <td>   -2.448</td> <td> 0.019</td> <td>   -0.314    -0.030</td>\n",
       "</tr>\n",
       "<tr>\n",
       "  <th>exam</th>        <td>   -0.2580</td> <td>    0.254</td> <td>   -1.016</td> <td> 0.315</td> <td>   -0.771     0.255</td>\n",
       "</tr>\n",
       "<tr>\n",
       "  <th>edu</th>         <td>   -0.8709</td> <td>    0.183</td> <td>   -4.758</td> <td> 0.000</td> <td>   -1.241    -0.501</td>\n",
       "</tr>\n",
       "<tr>\n",
       "  <th>catholic</th>    <td>    0.1041</td> <td>    0.035</td> <td>    2.953</td> <td> 0.005</td> <td>    0.033     0.175</td>\n",
       "</tr>\n",
       "<tr>\n",
       "  <th>infant_mort</th> <td>    1.0770</td> <td>    0.382</td> <td>    2.822</td> <td> 0.007</td> <td>    0.306     1.848</td>\n",
       "</tr>\n",
       "</table>\n",
       "<table class=\"simpletable\">\n",
       "<tr>\n",
       "  <th>Omnibus:</th>       <td> 0.058</td> <th>  Durbin-Watson:     </th> <td>   1.454</td>\n",
       "</tr>\n",
       "<tr>\n",
       "  <th>Prob(Omnibus):</th> <td> 0.971</td> <th>  Jarque-Bera (JB):  </th> <td>   0.155</td>\n",
       "</tr>\n",
       "<tr>\n",
       "  <th>Skew:</th>          <td>-0.077</td> <th>  Prob(JB):          </th> <td>   0.925</td>\n",
       "</tr>\n",
       "<tr>\n",
       "  <th>Kurtosis:</th>      <td> 2.764</td> <th>  Cond. No.          </th> <td>    807.</td>\n",
       "</tr>\n",
       "</table>"
      ],
      "text/plain": [
       "<class 'statsmodels.iolib.summary.Summary'>\n",
       "\"\"\"\n",
       "                            OLS Regression Results                            \n",
       "==============================================================================\n",
       "Dep. Variable:              fertility   R-squared:                       0.707\n",
       "Model:                            OLS   Adj. R-squared:                  0.671\n",
       "Method:                 Least Squares   F-statistic:                     19.76\n",
       "Date:                Tue, 13 Nov 2018   Prob (F-statistic):           5.59e-10\n",
       "Time:                        09:28:10   Log-Likelihood:                -156.04\n",
       "No. Observations:                  47   AIC:                             324.1\n",
       "Df Residuals:                      41   BIC:                             335.2\n",
       "Df Model:                           5                                         \n",
       "Covariance Type:            nonrobust                                         \n",
       "===============================================================================\n",
       "                  coef    std err          t      P>|t|      [95.0% Conf. Int.]\n",
       "-------------------------------------------------------------------------------\n",
       "Intercept      66.9152     10.706      6.250      0.000        45.294    88.536\n",
       "agri           -0.1721      0.070     -2.448      0.019        -0.314    -0.030\n",
       "exam           -0.2580      0.254     -1.016      0.315        -0.771     0.255\n",
       "edu            -0.8709      0.183     -4.758      0.000        -1.241    -0.501\n",
       "catholic        0.1041      0.035      2.953      0.005         0.033     0.175\n",
       "infant_mort     1.0770      0.382      2.822      0.007         0.306     1.848\n",
       "==============================================================================\n",
       "Omnibus:                        0.058   Durbin-Watson:                   1.454\n",
       "Prob(Omnibus):                  0.971   Jarque-Bera (JB):                0.155\n",
       "Skew:                          -0.077   Prob(JB):                        0.925\n",
       "Kurtosis:                       2.764   Cond. No.                         807.\n",
       "==============================================================================\n",
       "\n",
       "Warnings:\n",
       "[1] Standard Errors assume that the covariance matrix of the errors is correctly specified.\n",
       "\"\"\""
      ]
     },
     "execution_count": 9,
     "metadata": {},
     "output_type": "execute_result"
    }
   ],
   "source": [
    "lin_reg = smf.ols(formula, data=df).fit()\n",
    "lin_reg.summary()"
   ]
  },
  {
   "cell_type": "code",
   "execution_count": 10,
   "metadata": {
    "collapsed": false
   },
   "outputs": [
    {
     "data": {
      "text/plain": [
       "Intercept      66.915182\n",
       "agri           -0.172114\n",
       "exam           -0.258008\n",
       "edu            -0.870940\n",
       "catholic        0.104115\n",
       "infant_mort     1.077048\n",
       "dtype: float64"
      ]
     },
     "execution_count": 10,
     "metadata": {},
     "output_type": "execute_result"
    }
   ],
   "source": [
    "lin_reg.params"
   ]
  },
  {
   "cell_type": "code",
   "execution_count": 11,
   "metadata": {
    "collapsed": false
   },
   "outputs": [
    {
     "data": {
      "text/html": [
       "<div>\n",
       "<table border=\"1\" class=\"dataframe\">\n",
       "  <thead>\n",
       "    <tr style=\"text-align: right;\">\n",
       "      <th></th>\n",
       "      <th>0</th>\n",
       "      <th>1</th>\n",
       "    </tr>\n",
       "  </thead>\n",
       "  <tbody>\n",
       "    <tr>\n",
       "      <th>Intercept</th>\n",
       "      <td>45.293900</td>\n",
       "      <td>88.536463</td>\n",
       "    </tr>\n",
       "    <tr>\n",
       "      <th>agri</th>\n",
       "      <td>-0.314096</td>\n",
       "      <td>-0.030132</td>\n",
       "    </tr>\n",
       "    <tr>\n",
       "      <th>exam</th>\n",
       "      <td>-0.770726</td>\n",
       "      <td>0.254709</td>\n",
       "    </tr>\n",
       "    <tr>\n",
       "      <th>edu</th>\n",
       "      <td>-1.240574</td>\n",
       "      <td>-0.501306</td>\n",
       "    </tr>\n",
       "    <tr>\n",
       "      <th>catholic</th>\n",
       "      <td>0.032911</td>\n",
       "      <td>0.175320</td>\n",
       "    </tr>\n",
       "    <tr>\n",
       "      <th>infant_mort</th>\n",
       "      <td>0.306150</td>\n",
       "      <td>1.847947</td>\n",
       "    </tr>\n",
       "  </tbody>\n",
       "</table>\n",
       "</div>"
      ],
      "text/plain": [
       "                     0          1\n",
       "Intercept    45.293900  88.536463\n",
       "agri         -0.314096  -0.030132\n",
       "exam         -0.770726   0.254709\n",
       "edu          -1.240574  -0.501306\n",
       "catholic      0.032911   0.175320\n",
       "infant_mort   0.306150   1.847947"
      ]
     },
     "execution_count": 11,
     "metadata": {},
     "output_type": "execute_result"
    }
   ],
   "source": [
    "lin_reg.conf_int()"
   ]
  },
  {
   "cell_type": "code",
   "execution_count": 12,
   "metadata": {
    "collapsed": false
   },
   "outputs": [
    {
     "data": {
      "text/plain": [
       "Intercept      21.621281\n",
       "agri            0.141982\n",
       "exam            0.512717\n",
       "edu             0.369634\n",
       "catholic        0.071205\n",
       "infant_mort     0.770898\n",
       "dtype: float64"
      ]
     },
     "execution_count": 12,
     "metadata": {},
     "output_type": "execute_result"
    }
   ],
   "source": [
    "err_series = lin_reg.params - lin_reg.conf_int()[0]\n",
    "err_series"
   ]
  },
  {
   "cell_type": "code",
   "execution_count": 13,
   "metadata": {
    "collapsed": false
   },
   "outputs": [
    {
     "data": {
      "text/html": [
       "<div>\n",
       "<table border=\"1\" class=\"dataframe\">\n",
       "  <thead>\n",
       "    <tr style=\"text-align: right;\">\n",
       "      <th></th>\n",
       "      <th>coef</th>\n",
       "      <th>err</th>\n",
       "      <th>varname</th>\n",
       "    </tr>\n",
       "  </thead>\n",
       "  <tbody>\n",
       "    <tr>\n",
       "      <th>0</th>\n",
       "      <td>-0.172114</td>\n",
       "      <td>0.141982</td>\n",
       "      <td>agri</td>\n",
       "    </tr>\n",
       "    <tr>\n",
       "      <th>1</th>\n",
       "      <td>-0.258008</td>\n",
       "      <td>0.512717</td>\n",
       "      <td>exam</td>\n",
       "    </tr>\n",
       "    <tr>\n",
       "      <th>2</th>\n",
       "      <td>-0.870940</td>\n",
       "      <td>0.369634</td>\n",
       "      <td>edu</td>\n",
       "    </tr>\n",
       "    <tr>\n",
       "      <th>3</th>\n",
       "      <td>0.104115</td>\n",
       "      <td>0.071205</td>\n",
       "      <td>catholic</td>\n",
       "    </tr>\n",
       "    <tr>\n",
       "      <th>4</th>\n",
       "      <td>1.077048</td>\n",
       "      <td>0.770898</td>\n",
       "      <td>infant_mort</td>\n",
       "    </tr>\n",
       "  </tbody>\n",
       "</table>\n",
       "</div>"
      ],
      "text/plain": [
       "       coef       err      varname\n",
       "0 -0.172114  0.141982         agri\n",
       "1 -0.258008  0.512717         exam\n",
       "2 -0.870940  0.369634          edu\n",
       "3  0.104115  0.071205     catholic\n",
       "4  1.077048  0.770898  infant_mort"
      ]
     },
     "execution_count": 13,
     "metadata": {},
     "output_type": "execute_result"
    }
   ],
   "source": [
    "coef_df = pd.DataFrame({'coef': lin_reg.params.values[1:],\n",
    "                        'err': err_series.values[1:],\n",
    "                        'varname': err_series.index.values[1:]\n",
    "                       })\n",
    "coef_df"
   ]
  },
  {
   "cell_type": "code",
   "execution_count": 14,
   "metadata": {
    "collapsed": false
   },
   "outputs": [
    {
     "data": {
      "image/png": "[encoded data removed]",
      "text/plain": [
       "<matplotlib.figure.Figure at 0x11858ceb8>"
      ]
     },
     "metadata": {},
     "output_type": "display_data"
    }
   ],
   "source": [
    "#basic plot\n",
    "fig, ax = plt.subplots(figsize=(8, 5))\n",
    "coef_df.plot(x='varname', y='coef', kind='bar', \n",
    "             ax=ax, color='none', \n",
    "             yerr='err', legend=False)\n",
    "ax.set_ylabel('')\n",
    "ax.set_xlabel('')\n",
    "ax.scatter(x=pd.np.arange(coef_df.shape[0]), \n",
    "           marker='s', s=120, \n",
    "           y=coef_df['coef'], color='black')\n",
    "ax.axhline(y=0, linestyle='--', color='black', linewidth=4)\n",
    "ax.xaxis.set_ticks_position('none')\n",
    "_ = ax.set_xticklabels(['Agriculture', 'Exam', 'Edu.', 'Catholic', 'Infant Mort.'], \n",
    "                       rotation=0, fontsize=16)"
   ]
  },
  {
   "cell_type": "code",
   "execution_count": 15,
   "metadata": {
    "collapsed": false
   },
   "outputs": [
    {
     "data": {
      "image/png": "[encoded data removed]",
      "text/plain": [
       "<matplotlib.figure.Figure at 0x1186c51d0>"
      ]
     },
     "metadata": {},
     "output_type": "display_data"
    }
   ],
   "source": [
    "#level 2: adding groups\n",
    "fig, ax = plt.subplots(figsize=(8, 5))\n",
    "coef_df.plot(x='varname', y='coef', kind='bar', \n",
    "             ax=ax, color='none', \n",
    "             yerr='err', legend=False)\n",
    "ax.set_ylabel('')\n",
    "ax.set_xlabel('')\n",
    "ax.scatter(x=pd.np.arange(coef_df.shape[0]), \n",
    "           marker='s', s=120, \n",
    "           y=coef_df['coef'], color='black')\n",
    "ax.axhline(y=0, linestyle='--', color='black', linewidth=4)\n",
    "ax.xaxis.set_ticks_position('none')\n",
    "_ = ax.set_xticklabels(['Agriculture', 'Exam', 'Edu.', 'Catholic', 'Infant Mort.'], \n",
    "                       rotation=0, fontsize=16)\n",
    "\n",
    "fs = 16\n",
    "ax.annotate('Control', xy=(0.3, -0.2), xytext=(0.3, -0.3), \n",
    "            xycoords='axes fraction', \n",
    "            textcoords='axes fraction', \n",
    "            fontsize=fs, ha='center', va='bottom',\n",
    "            bbox=dict(boxstyle='square', fc='white', ec='black'),\n",
    "            arrowprops=dict(arrowstyle='-[, widthB=6.5, lengthB=1.2', lw=2.0, color='black'))\n",
    "\n",
    "_ = ax.annotate('Study', xy=(0.8, -0.2), xytext=(0.8, -0.3), \n",
    "                 xycoords='axes fraction', \n",
    "                 textcoords='axes fraction', \n",
    "                 fontsize=fs, ha='center', va='bottom',\n",
    "                 bbox=dict(boxstyle='square', fc='white', ec='black'),\n",
    "                 arrowprops=dict(arrowstyle='-[, widthB=3.5, lengthB=1.2', lw=2.0, color='black'))"
   ]
  },
  {
   "cell_type": "code",
   "execution_count": 16,
   "metadata": {
    "collapsed": false
   },
   "outputs": [
    {
     "name": "stdout",
     "output_type": "stream",
     "text": [
      "fertility ~ agri + exam + edu + catholic\n"
     ]
    },
    {
     "data": {
      "text/plain": [
       "Intercept    91.055424\n",
       "agri         -0.220646\n",
       "exam         -0.260582\n",
       "edu          -0.961612\n",
       "catholic      0.124418\n",
       "dtype: float64"
      ]
     },
     "execution_count": 16,
     "metadata": {},
     "output_type": "execute_result"
    }
   ],
   "source": [
    "#level 3: multiple models and model comparisons\n",
    "formula_1 = 'fertility ~ %s'%(\" + \".join(df.columns.values[1:-1]))\n",
    "print(formula_1)\n",
    "mod_1 = smf.ols(formula_1, data=df).fit()\n",
    "mod_1.params"
   ]
  },
  {
   "cell_type": "code",
   "execution_count": 17,
   "metadata": {
    "collapsed": false
   },
   "outputs": [
    {
     "name": "stdout",
     "output_type": "stream",
     "text": [
      "fertility ~ agri + exam + edu + infant_mort\n"
     ]
    },
    {
     "data": {
      "text/plain": [
       "Intercept      68.773136\n",
       "agri           -0.129292\n",
       "exam           -0.687994\n",
       "edu            -0.619649\n",
       "infant_mort     1.307097\n",
       "dtype: float64"
      ]
     },
     "execution_count": 17,
     "metadata": {},
     "output_type": "execute_result"
    }
   ],
   "source": [
    "formula_2 = 'fertility ~ %s'%(\" + \".join(df.columns.values[1:-2].tolist() + ['infant_mort']))\n",
    "print(formula_2)\n",
    "mod_2 = smf.ols(formula_2, data=df).fit()\n",
    "mod_2.params"
   ]
  },
  {
   "cell_type": "code",
   "execution_count": 18,
   "metadata": {
    "collapsed": false
   },
   "outputs": [
    {
     "data": {
      "text/html": [
       "<div>\n",
       "<table border=\"1\" class=\"dataframe\">\n",
       "  <thead>\n",
       "    <tr style=\"text-align: right;\">\n",
       "      <th></th>\n",
       "      <th>coef</th>\n",
       "      <th>err</th>\n",
       "      <th>model</th>\n",
       "      <th>varname</th>\n",
       "    </tr>\n",
       "  </thead>\n",
       "  <tbody>\n",
       "    <tr>\n",
       "      <th>0</th>\n",
       "      <td>-0.220646</td>\n",
       "      <td>0.148531</td>\n",
       "      <td>model 1</td>\n",
       "      <td>agri</td>\n",
       "    </tr>\n",
       "    <tr>\n",
       "      <th>1</th>\n",
       "      <td>-0.260582</td>\n",
       "      <td>0.553176</td>\n",
       "      <td>model 1</td>\n",
       "      <td>exam</td>\n",
       "    </tr>\n",
       "    <tr>\n",
       "      <th>2</th>\n",
       "      <td>-0.961612</td>\n",
       "      <td>0.392609</td>\n",
       "      <td>model 1</td>\n",
       "      <td>edu</td>\n",
       "    </tr>\n",
       "    <tr>\n",
       "      <th>3</th>\n",
       "      <td>0.124418</td>\n",
       "      <td>0.075207</td>\n",
       "      <td>model 1</td>\n",
       "      <td>catholic</td>\n",
       "    </tr>\n",
       "    <tr>\n",
       "      <th>0</th>\n",
       "      <td>-0.129292</td>\n",
       "      <td>0.151049</td>\n",
       "      <td>model 2</td>\n",
       "      <td>agri</td>\n",
       "    </tr>\n",
       "    <tr>\n",
       "      <th>1</th>\n",
       "      <td>-0.687994</td>\n",
       "      <td>0.456646</td>\n",
       "      <td>model 2</td>\n",
       "      <td>exam</td>\n",
       "    </tr>\n",
       "    <tr>\n",
       "      <th>2</th>\n",
       "      <td>-0.619649</td>\n",
       "      <td>0.355803</td>\n",
       "      <td>model 2</td>\n",
       "      <td>edu</td>\n",
       "    </tr>\n",
       "    <tr>\n",
       "      <th>3</th>\n",
       "      <td>1.307097</td>\n",
       "      <td>0.820514</td>\n",
       "      <td>model 2</td>\n",
       "      <td>infant_mort</td>\n",
       "    </tr>\n",
       "  </tbody>\n",
       "</table>\n",
       "</div>"
      ],
      "text/plain": [
       "       coef       err    model      varname\n",
       "0 -0.220646  0.148531  model 1         agri\n",
       "1 -0.260582  0.553176  model 1         exam\n",
       "2 -0.961612  0.392609  model 1          edu\n",
       "3  0.124418  0.075207  model 1     catholic\n",
       "0 -0.129292  0.151049  model 2         agri\n",
       "1 -0.687994  0.456646  model 2         exam\n",
       "2 -0.619649  0.355803  model 2          edu\n",
       "3  1.307097  0.820514  model 2  infant_mort"
      ]
     },
     "execution_count": 18,
     "metadata": {},
     "output_type": "execute_result"
    }
   ],
   "source": [
    "coef_df = pd.DataFrame()\n",
    "for i, mod in enumerate([mod_1, mod_2]):\n",
    "    err_series = mod.params - mod.conf_int()[0]\n",
    "    coef_df = coef_df.append(pd.DataFrame({'coef': mod.params.values[1:],\n",
    "                                           'err': err_series.values[1:],\n",
    "                                           'varname': err_series.index.values[1:],\n",
    "                                           'model': 'model %d'%(i+1)\n",
    "                                          })\n",
    "                            )\n",
    "coef_df"
   ]
  },
  {
   "cell_type": "code",
   "execution_count": 19,
   "metadata": {
    "collapsed": false
   },
   "outputs": [
    {
     "data": {
      "text/plain": [
       "array([-0.2,  0.8,  1.8,  2.8,  3.8])"
      ]
     },
     "execution_count": 19,
     "metadata": {},
     "output_type": "execute_result"
    }
   ],
   "source": [
    "## marker to use\n",
    "marker_list = 'so'\n",
    "width=0.25\n",
    "## 5 covariates in total\n",
    "base_x = pd.np.arange(5) - 0.2\n",
    "base_x"
   ]
  },
  {
   "cell_type": "code",
   "execution_count": 20,
   "metadata": {
    "collapsed": false
   },
   "outputs": [
    {
     "data": {
      "image/png": "[encoded data removed]",
      "text/plain": [
       "<matplotlib.figure.Figure at 0x1188d49b0>"
      ]
     },
     "metadata": {},
     "output_type": "display_data"
    }
   ],
   "source": [
    "fig, ax = plt.subplots(figsize=(8, 5))\n",
    "for i, mod in enumerate(coef_df.model.unique()):\n",
    "    mod_df = coef_df[coef_df.model == mod]\n",
    "    mod_df = mod_df.set_index('varname').reindex(coef_df['varname'].unique())\n",
    "    ## offset x posistions\n",
    "    X = base_x + width*i\n",
    "    ax.bar(X, mod_df['coef'],  \n",
    "           color='none',yerr=mod_df['err'])\n",
    "    ## remove axis labels\n",
    "    ax.set_ylabel('')\n",
    "    ax.set_xlabel('')\n",
    "    ax.scatter(x=X, \n",
    "               marker=marker_list[i], s=120, \n",
    "               y=mod_df['coef'], color='black')\n",
    "    ax.axhline(y=0, linestyle='--', color='black', linewidth=4)\n",
    "    ax.xaxis.set_ticks_position('none')\n",
    "    _ = ax.set_xticklabels(['', 'Agriculture', 'Exam', 'Edu.', 'Catholic', 'Infant Mort.'], \n",
    "                           rotation=0, fontsize=16)\n",
    "\n",
    "    fs = 16\n",
    "    ax.annotate('Control', xy=(0.3, -0.2), xytext=(0.3, -0.35), \n",
    "                xycoords='axes fraction', \n",
    "                textcoords='axes fraction', \n",
    "                fontsize=fs, ha='center', va='bottom',\n",
    "                bbox=dict(boxstyle='square', fc='white', ec='black'),\n",
    "                arrowprops=dict(arrowstyle='-[, widthB=6.5, lengthB=1.2', lw=2.0, color='black'))\n",
    "\n",
    "    ax.annotate('Study', xy=(0.8, -0.2), xytext=(0.8, -0.35), \n",
    "                xycoords='axes fraction', \n",
    "                textcoords='axes fraction', \n",
    "                fontsize=fs, ha='center', va='bottom',\n",
    "                bbox=dict(boxstyle='square', fc='white', ec='black'),\n",
    "                arrowprops=dict(arrowstyle='-[, widthB=3.5, lengthB=1.2', lw=2.0, color='black'))\n",
    "    \n",
    "## finally, build customized legend\n",
    "legend_elements = [Line2D([0], [0], marker=m,\n",
    "                          label='Model %d'%i,\n",
    "                          color = 'k',\n",
    "                          markersize=10)\n",
    "                   for i, m in enumerate(marker_list)\n",
    "                  ]\n",
    "_ = ax.legend(handles=legend_elements, loc=2, \n",
    "              prop={'size': 15}, labelspacing=1.2)"
   ]
  },
  {
   "cell_type": "code",
   "execution_count": null,
   "metadata": {
    "collapsed": true
   },
   "outputs": [],
   "source": []
  }
 ],
 "metadata": {
  "kernelspec": {
   "display_name": "Python 3",
   "language": "python",
   "name": "python3"
  },
  "language_info": {
   "codemirror_mode": {
    "name": "ipython",
    "version": 3
   },
   "file_extension": ".py",
   "mimetype": "text/x-python",
   "name": "python",
   "nbconvert_exporter": "python",
   "pygments_lexer": "ipython3",
   "version": "3.6.0"
  }
 },
 "nbformat": 4,
 "nbformat_minor": 2
}
